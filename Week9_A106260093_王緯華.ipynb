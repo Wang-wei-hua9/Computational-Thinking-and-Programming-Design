{
  "nbformat": 4,
  "nbformat_minor": 0,
  "metadata": {
    "colab": {
      "name": "Week9/A106260093/王緯華.ipynb",
      "provenance": [],
      "include_colab_link": true
    },
    "kernelspec": {
      "name": "python3",
      "display_name": "Python 3"
    }
  },
  "cells": [
    {
      "cell_type": "markdown",
      "metadata": {
        "id": "view-in-github",
        "colab_type": "text"
      },
      "source": [
        "<a href=\"https://colab.research.google.com/github/Wang-wei-hua9/Computational-Thinking-and-Programming-Design/blob/master/Week9_A106260093_%E7%8E%8B%E7%B7%AF%E8%8F%AF.ipynb\" target=\"_parent\"><img src=\"https://colab.research.google.com/assets/colab-badge.svg\" alt=\"Open In Colab\"/></a>"
      ]
    },
    {
      "cell_type": "code",
      "metadata": {
        "id": "AMD3wbAHaPQp",
        "colab_type": "code",
        "colab": {
          "base_uri": "https://localhost:8080/",
          "height": 51
        },
        "outputId": "f11784fc-3736-43ff-9923-35bb7d68e4bb"
      },
      "source": [
        "score = int(input(\"請輸入一個成績?\"))\n",
        "if score >= 60:        \n",
        "  print(\"GOOD!\")"
      ],
      "execution_count": 8,
      "outputs": [
        {
          "output_type": "stream",
          "text": [
            "請輸入一個成績?60\n",
            "GOOD!\n"
          ],
          "name": "stdout"
        }
      ]
    },
    {
      "cell_type": "code",
      "metadata": {
        "id": "2SPCdC1sbr_K",
        "colab_type": "code",
        "colab": {
          "base_uri": "https://localhost:8080/",
          "height": 51
        },
        "outputId": "72e9f2df-6850-42a7-c4a7-2e82f3485985"
      },
      "source": [
        "score = int(input(\"請輸入一個成績?\"))\n",
        "if score >= 60:        \n",
        "  print(\"GOOD!\")\n",
        "else:    \n",
        "  print(\"bad\")"
      ],
      "execution_count": 9,
      "outputs": [
        {
          "output_type": "stream",
          "text": [
            "請輸入一個成績?59\n",
            "bad\n"
          ],
          "name": "stdout"
        }
      ]
    },
    {
      "cell_type": "code",
      "metadata": {
        "id": "BJG8YLvXcwDF",
        "colab_type": "code",
        "colab": {
          "base_uri": "https://localhost:8080/",
          "height": 51
        },
        "outputId": "49e97580-90da-425c-dcdf-c7904bbe281b"
      },
      "source": [
        "score = int(input(\"請輸入一個成績?\"))\n",
        "if score >=80:   \n",
        "  print(\"very good\")\n",
        "elif score >= 60:    \n",
        "  print(\"good\") \n",
        "else:\n",
        "  print(\"加油\") \n"
      ],
      "execution_count": 11,
      "outputs": [
        {
          "output_type": "stream",
          "text": [
            "請輸入一個成績?80\n",
            "very good\n"
          ],
          "name": "stdout"
        }
      ]
    },
    {
      "cell_type": "code",
      "metadata": {
        "id": "0Gm6JwzYeP2h",
        "colab_type": "code",
        "colab": {
          "base_uri": "https://localhost:8080/",
          "height": 68
        },
        "outputId": "935b80af-8374-4e2b-c53d-33f78a5935d9"
      },
      "source": [
        "x = float(input(\"請輸入一個X座標?\"))\n",
        "y = float(input(\"請輸入一個Y座標?\"))\n",
        "\n",
        "if (x > 0):    \n",
        "  if(y> 0):\n",
        "    print(\"該點在第一象限\")\n",
        "  else:\n",
        "    print(\"該點在第四象限\")\n",
        "else:\n",
        "  if (y > 0):    \n",
        "    print(\"該點在第二象限\")\n",
        "  else:\n",
        "    print(\"該點在第三象限\")\n",
        "    "
      ],
      "execution_count": 12,
      "outputs": [
        {
          "output_type": "stream",
          "text": [
            "請輸入一個X座標?5\n",
            "請輸入一個Y座標?-10\n",
            "該點在第四象限\n"
          ],
          "name": "stdout"
        }
      ]
    },
    {
      "cell_type": "code",
      "metadata": {
        "id": "ybVaJXflf_Ex",
        "colab_type": "code",
        "colab": {
          "base_uri": "https://localhost:8080/",
          "height": 51
        },
        "outputId": "de636762-a17e-48e8-ba11-e4f5bcb49744"
      },
      "source": [
        "cost = int(input(\"請輸入購買金額?\"))\n",
        "if cost >= 2000:    \n",
        "  print(cost * 0.9)\n",
        "else:\n",
        "  print(cost)\n",
        "  "
      ],
      "execution_count": 13,
      "outputs": [
        {
          "output_type": "stream",
          "text": [
            "請輸入購買金額?3000\n",
            "2700.0\n"
          ],
          "name": "stdout"
        }
      ]
    },
    {
      "cell_type": "code",
      "metadata": {
        "id": "U_wCKlQ5gcM5",
        "colab_type": "code",
        "colab": {
          "base_uri": "https://localhost:8080/",
          "height": 51
        },
        "outputId": "778d44b6-a90f-4dfd-de5d-951164409229"
      },
      "source": [
        "num = int(input(\"請輸入一個整數?\"))\n",
        "if num % 2 == 0:    \n",
        "  print(num, \"為偶數\")\n",
        "else:\n",
        "  print(num, \"為奇數\")"
      ],
      "execution_count": 14,
      "outputs": [
        {
          "output_type": "stream",
          "text": [
            "請輸入一個整數?13\n",
            "13 為奇數\n"
          ],
          "name": "stdout"
        }
      ]
    },
    {
      "cell_type": "code",
      "metadata": {
        "id": "C2OQlLp8hHyA",
        "colab_type": "code",
        "colab": {
          "base_uri": "https://localhost:8080/",
          "height": 51
        },
        "outputId": "54a28043-140c-44d4-9e05-b15dad2bdc7c"
      },
      "source": [
        "num = int(input(\"請輸入一個整數\"))\n",
        "if num %2 ==1:    \n",
        "  print(num, \"為奇數\")\n",
        "else:\n",
        "  print(num,\"為偶數\")"
      ],
      "execution_count": 15,
      "outputs": [
        {
          "output_type": "stream",
          "text": [
            "請輸入一個整數13\n",
            "13 為奇數\n"
          ],
          "name": "stdout"
        }
      ]
    },
    {
      "cell_type": "code",
      "metadata": {
        "id": "766Kk8Gihl5w",
        "colab_type": "code",
        "colab": {
          "base_uri": "https://localhost:8080/",
          "height": 85
        },
        "outputId": "a494bf99-a2a3-4472-b24e-c6f70da61137"
      },
      "source": [
        "a = int(input(\"請輸入三角形a邊長的長度\"))\n",
        "b = int(input(\"請輸入三角形b邊長的長度\"))\n",
        "c = int(input(\"請輸入三角形c邊長的長度\"))\n",
        "\n",
        "if (a<b+c)and(b<a+c)and(c<a+b):    \n",
        "  print(\"可構成三角形\")\n",
        "else:\n",
        "  print(\"無法構成三角形\")"
      ],
      "execution_count": 20,
      "outputs": [
        {
          "output_type": "stream",
          "text": [
            "請輸入三角形a邊長的長度11\n",
            "請輸入三角形b邊長的長度2\n",
            "請輸入三角形c邊長的長度13\n",
            "無法構成三角形\n"
          ],
          "name": "stdout"
        }
      ]
    },
    {
      "cell_type": "code",
      "metadata": {
        "id": "mljmdE3qjBB6",
        "colab_type": "code",
        "colab": {
          "base_uri": "https://localhost:8080/",
          "height": 85
        },
        "outputId": "efef4a31-cf63-445f-c149-69dc26dfc511"
      },
      "source": [
        "w= float(input(\"請輸入體重(KG)\"))\n",
        "h = float(input(\"請輸入身高(M)\"))\n",
        "bmi = w/(h*h)\n",
        "print(\"BMI為\",bmi)\n",
        "\n",
        "if bmi < 18:    \n",
        "  print(\"體重過輕\")\n",
        "elif bmi < 24:    \n",
        "  print('體重正常')\n",
        "elif bmi < 27:    \n",
        "  print('體重過重')\n",
        "else:    \n",
        "  print('體重肥胖')"
      ],
      "execution_count": 22,
      "outputs": [
        {
          "output_type": "stream",
          "text": [
            "請輸入體重(KG)65\n",
            "請輸入身高(M)1.83\n",
            "BMI為 19.409358296754156\n",
            "體重正常\n"
          ],
          "name": "stdout"
        }
      ]
    }
  ]
}