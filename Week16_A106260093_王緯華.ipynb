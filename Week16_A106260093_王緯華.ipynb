{
  "nbformat": 4,
  "nbformat_minor": 0,
  "metadata": {
    "colab": {
      "name": "Week16/A106260093/王緯華.ipynb",
      "provenance": [],
      "include_colab_link": true
    },
    "kernelspec": {
      "name": "python3",
      "display_name": "Python 3"
    }
  },
  "cells": [
    {
      "cell_type": "markdown",
      "metadata": {
        "id": "view-in-github",
        "colab_type": "text"
      },
      "source": [
        "<a href=\"https://colab.research.google.com/github/Wang-wei-hua9/Computational-Thinking-and-Programming-Design/blob/master/Week16_A106260093_%E7%8E%8B%E7%B7%AF%E8%8F%AF.ipynb\" target=\"_parent\"><img src=\"https://colab.research.google.com/assets/colab-badge.svg\" alt=\"Open In Colab\"/></a>"
      ]
    },
    {
      "cell_type": "code",
      "metadata": {
        "id": "WFf3DToFo8PC",
        "colab_type": "code",
        "colab": {
          "base_uri": "https://localhost:8080/",
          "height": 85
        },
        "outputId": "082a416a-c379-4c2d-c6f1-7b95106b41fb"
      },
      "source": [
        "answer = \"123\"\n",
        "while True:\n",
        "  password = input(\"Enter your password:\")\n",
        "  if password == answer:\n",
        "    print(\"Correct\")\n",
        "    break\n",
        "  else:\n",
        "    print(\"Fail, Try Again\")"
      ],
      "execution_count": 7,
      "outputs": [
        {
          "output_type": "stream",
          "text": [
            "Enter your password:456\n",
            "Fail, Try Again\n",
            "Enter your password:123\n",
            "Correct\n"
          ],
          "name": "stdout"
        }
      ]
    },
    {
      "cell_type": "code",
      "metadata": {
        "id": "_B8_eW7RwKIy",
        "colab_type": "code",
        "colab": {
          "base_uri": "https://localhost:8080/",
          "height": 170
        },
        "outputId": "8e6fa802-d57e-473a-d148-c97cdb2349ff"
      },
      "source": [
        "while True:\n",
        "  password = input('請輸入帳號?')\n",
        "  apple = input('請輸入密碼?')\n",
        "  if (password == '123' and apple == '456'):\n",
        "    print('帳號與密碼正確')\n",
        "    break\n",
        "  else:\n",
        "    print('登入失敗')"
      ],
      "execution_count": 28,
      "outputs": [
        {
          "output_type": "stream",
          "text": [
            "請輸入帳號?123\n",
            "請輸入密碼?789\n",
            "登入失敗\n",
            "請輸入帳號?123\n",
            "請輸入密碼?4565\n",
            "登入失敗\n",
            "請輸入帳號?123\n",
            "請輸入密碼?456\n",
            "帳號與密碼正確\n"
          ],
          "name": "stdout"
        }
      ]
    },
    {
      "cell_type": "code",
      "metadata": {
        "id": "KbzEyGctzlpl",
        "colab_type": "code",
        "colab": {
          "base_uri": "https://localhost:8080/",
          "height": 119
        },
        "outputId": "687807fd-25b3-4316-f063-e72e2fc363f3"
      },
      "source": [
        "answer = \"123\"\n",
        "time = 0\n",
        "\n",
        "while time<=3:\n",
        "  password = input(\"Enter your password:\")\n",
        "  if password == answer:\n",
        "    print(\"Correct\")\n",
        "    break\n",
        "  else:\n",
        "    time=time+1\n",
        "    chance= 3-time\n",
        "    print(\"Fail, Try Again\",chance,\"time\")"
      ],
      "execution_count": 44,
      "outputs": [
        {
          "output_type": "stream",
          "text": [
            "Enter your password:456\n",
            "Fail, Try Again 2 time\n",
            "Enter your password:789\n",
            "Fail, Try Again 1 time\n",
            "Enter your password:123\n",
            "Correct\n"
          ],
          "name": "stdout"
        }
      ]
    },
    {
      "cell_type": "code",
      "metadata": {
        "id": "5bOYo09-2UL0",
        "colab_type": "code",
        "colab": {
          "base_uri": "https://localhost:8080/",
          "height": 102
        },
        "outputId": "f6ee34a9-5fe4-436c-c743-cf1daa6fc016"
      },
      "source": [
        "for a in range(5):\n",
        "  \n",
        "  print (a)"
      ],
      "execution_count": 46,
      "outputs": [
        {
          "output_type": "stream",
          "text": [
            "0\n",
            "1\n",
            "2\n",
            "3\n",
            "4\n"
          ],
          "name": "stdout"
        }
      ]
    },
    {
      "cell_type": "code",
      "metadata": {
        "id": "3yRxp3Te2nXR",
        "colab_type": "code",
        "colab": {
          "base_uri": "https://localhost:8080/",
          "height": 34
        },
        "outputId": "94a68c34-d7c2-4e45-be40-7d42caca0bb2"
      },
      "source": [
        "for a in range(9):\n",
        "  \n",
        "  print (a,end=\" \")"
      ],
      "execution_count": 47,
      "outputs": [
        {
          "output_type": "stream",
          "text": [
            "0 1 2 3 4 5 6 7 8 "
          ],
          "name": "stdout"
        }
      ]
    },
    {
      "cell_type": "code",
      "metadata": {
        "id": "UGgl26sp2wjL",
        "colab_type": "code",
        "colab": {
          "base_uri": "https://localhost:8080/",
          "height": 102
        },
        "outputId": "e247386d-0cf7-4607-b8e2-62c3f03ff5bb"
      },
      "source": [
        "for a in range(5):\n",
        "  \n",
        "  print (\"HI\")"
      ],
      "execution_count": 50,
      "outputs": [
        {
          "output_type": "stream",
          "text": [
            "HI\n",
            "HI\n",
            "HI\n",
            "HI\n",
            "HI\n"
          ],
          "name": "stdout"
        }
      ]
    },
    {
      "cell_type": "code",
      "metadata": {
        "id": "8hgLv0QK27q2",
        "colab_type": "code",
        "colab": {
          "base_uri": "https://localhost:8080/",
          "height": 34
        },
        "outputId": "9a753c77-2047-4da9-dba2-a7def4dcd41e"
      },
      "source": [
        "sum=0\n",
        "for a in range(1,10,2):\n",
        "  sum=sum+a\n",
        "print(\"1+3+5+7+9=\",sum)"
      ],
      "execution_count": 63,
      "outputs": [
        {
          "output_type": "stream",
          "text": [
            "1+3+5+7+9= 25\n"
          ],
          "name": "stdout"
        }
      ]
    },
    {
      "cell_type": "code",
      "metadata": {
        "id": "jJhyG87h4Eaq",
        "colab_type": "code",
        "colab": {
          "base_uri": "https://localhost:8080/",
          "height": 51
        },
        "outputId": "3f1b0c1c-88ac-4ec6-bdc3-e55916829e5f"
      },
      "source": [
        "n = int(input(\"請輸入N值?\"))\n",
        "sum =0;\n",
        "for x in range(1,n+1):\n",
        "  sum =sum+ x*x ;\n",
        "print(sum)\n"
      ],
      "execution_count": 67,
      "outputs": [
        {
          "output_type": "stream",
          "text": [
            "請輸入N值?5\n",
            "55\n"
          ],
          "name": "stdout"
        }
      ]
    }
  ]
}