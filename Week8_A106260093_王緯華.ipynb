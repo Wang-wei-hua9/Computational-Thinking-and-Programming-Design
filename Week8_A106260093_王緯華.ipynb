{
  "nbformat": 4,
  "nbformat_minor": 0,
  "metadata": {
    "colab": {
      "name": "Week8/A106260093/王緯華.ipynb",
      "provenance": [],
      "include_colab_link": true
    },
    "kernelspec": {
      "name": "python3",
      "display_name": "Python 3"
    }
  },
  "cells": [
    {
      "cell_type": "markdown",
      "metadata": {
        "id": "view-in-github",
        "colab_type": "text"
      },
      "source": [
        "<a href=\"https://colab.research.google.com/github/Wang-wei-hua9/Computational-Thinking-and-Programming-Design/blob/master/Week8_A106260093_%E7%8E%8B%E7%B7%AF%E8%8F%AF.ipynb\" target=\"_parent\"><img src=\"https://colab.research.google.com/assets/colab-badge.svg\" alt=\"Open In Colab\"/></a>"
      ]
    },
    {
      "cell_type": "code",
      "metadata": {
        "id": "vagMMiYFVxGQ",
        "colab_type": "code",
        "colab": {}
      },
      "source": [
        "print(\"Welcome to the Mashup Game!\")\n",
        "name1 = input(\"Enter one full name (FIRST LAST): \")\n",
        "name2 = input(\"Enter another full name (FIRST LAST): \")\n",
        "\n",
        "space = name1.find(\" \") \n",
        "name1_first = name1[0:space] \n",
        "name1_last = name1[space+1:len(name1)] \n",
        "space = name2.find(\" \")\n",
        "name2_first = name2[0:space]\n",
        "name2_last = name2[space+1:len(name2)]\n",
        "\n",
        "print(name1_first)\n",
        "print(name1_last)\n",
        "print(name2_first)\n",
        "print(name2_last)\n",
        "\n",
        "len_name1_first = len(name1_first)\n",
        "len_name2_first = len(name2_first)\n",
        "len_name1_last = len(name1_last)\n",
        "len_name2_last = len(name2_last)\n",
        "index_name1_first = int(len_name1_first/2)\n",
        "index_name2_first = int(len_name2_first/2)\n",
        "index_name1_last = int(len_name1_last/2)\n",
        "index_name2_last = int(len_name2_last/2)\n",
        "\n",
        "lefthalf_name1_first = name1_first[0:index_name1_first]\n",
        "righthalf_name1_first = name1_first[index_name1_first:len_name1_first]\n",
        "lefthalf_name2_first = name2_first[0:index_name2_first]\n",
        "righthalf_name2_first = name2_first[index_name2_first:len_name2_first]\n",
        "righthalf_name1_last = name1_last[index_name1_last:len_name1_last]\n",
        "lefthalf_name2_last = name2_last[0:index_name2_last]\n",
        "righthalf_name2_last = name2_last[index_name2_last:len_name2_last]\n",
        "\n",
        "newname1_first = lefthalf_name1_first.capitalize()+ righthalf_name1_first.lower()\n",
        "newname1_last = lefthalf_name1_last.capitalize()+ righthalf_name2_first.lower()\n",
        "newname2_first = lefthalf_name2_first.capitalize()+ righthalf_name2_first.lower()\n",
        "newname2_last = lefthalf_name1_last.capitalize()+ righthalf_name2_first.lower()\n",
        "\n",
        "print(\"All done! Here are two possibilities, pick the one you like best!\")\n",
        "print(newname1_first, newname1_last)\n",
        "print(newname2_first, newname2_last)\n"
      ],
      "execution_count": 0,
      "outputs": []
    },
    {
      "cell_type": "code",
      "metadata": {
        "id": "YEDvPDHocoEo",
        "colab_type": "code",
        "colab": {
          "base_uri": "https://localhost:8080/",
          "height": 51
        },
        "outputId": "3b45f637-fee3-42e3-bcb9-70d3faf1bc2a"
      },
      "source": [
        "s = input(\"請輸入一個字串\")\n",
        "print(\"迴文判斷解果為\", s== s[::-1])\n"
      ],
      "execution_count": 4,
      "outputs": [
        {
          "output_type": "stream",
          "text": [
            "請輸入一個字串abccba\n",
            "迴文判斷解果為 True\n"
          ],
          "name": "stdout"
        }
      ]
    },
    {
      "cell_type": "code",
      "metadata": {
        "id": "uD9dmiTOdXvY",
        "colab_type": "code",
        "colab": {
          "base_uri": "https://localhost:8080/",
          "height": 85
        },
        "outputId": "5b69875b-d8b8-4298-c071-7d5cf9589785"
      },
      "source": [
        "a=input(\"請輸入一行英文句子\")\n",
        "words = a.split(\" \")\n",
        "print(\"將英文句子以空白字元切割後，獲得單字為\", words)\n",
        "\n",
        "a1 = \" \".join(words)\n",
        "print(\"以空白字元結合所有單字後，獲得句子為\", a1)\n",
        "\n",
        "a2 = a.title()\n",
        "print(\"將每個單字自首轉大寫後，獲得句子為\",a2)"
      ],
      "execution_count": 10,
      "outputs": [
        {
          "output_type": "stream",
          "text": [
            "請輸入一行英文句子an apple a day keeps the doctor away\n",
            "將英文句子以空白字元切割後，獲得單字為 ['an', 'apple', 'a', 'day', 'keeps', 'the', 'doctor', 'away']\n",
            "以空白字元結合所有單字後，獲得句子為 an apple a day keeps the doctor away\n",
            "將每個單字自首轉大寫後，獲得句子為 An Apple A Day Keeps The Doctor Away\n"
          ],
          "name": "stdout"
        }
      ]
    }
  ]
}