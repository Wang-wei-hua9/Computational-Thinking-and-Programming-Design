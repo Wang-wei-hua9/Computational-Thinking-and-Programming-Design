{
  "nbformat": 4,
  "nbformat_minor": 0,
  "metadata": {
    "colab": {
      "name": "Week5/A106260093/王緯華.ipynb",
      "provenance": [],
      "include_colab_link": true
    },
    "kernelspec": {
      "name": "python3",
      "display_name": "Python 3"
    }
  },
  "cells": [
    {
      "cell_type": "markdown",
      "metadata": {
        "id": "view-in-github",
        "colab_type": "text"
      },
      "source": [
        "<a href=\"https://colab.research.google.com/github/Wang-wei-hua9/Computational-Thinking-and-Programming-Design/blob/master/Week5_A106260093_%E7%8E%8B%E7%B7%AF%E8%8F%AF.ipynb\" target=\"_parent\"><img src=\"https://colab.research.google.com/assets/colab-badge.svg\" alt=\"Open In Colab\"/></a>"
      ]
    },
    {
      "cell_type": "code",
      "metadata": {
        "id": "lQkuX93jqYz_",
        "colab_type": "code",
        "colab": {
          "base_uri": "https://localhost:8080/",
          "height": 101
        },
        "outputId": "38409f3f-fa4f-496d-cc91-de65eb912ff5"
      },
      "source": [
        "player = \"Ron Harper\"\n",
        "player_list = [\"Ron Harper\", \"Michael Jordan\", \"Scottie Pippen\", \"Dennis Rodman\", \"LucLongley\"]\n",
        "player_tuple = tuple(player_list)\n",
        "player_dict = {\n",
        " \"PG\": \"Ron Harper\",\n",
        " \"SG\": \"Michael Jordan\",\n",
        " \"SF\": \"Scottie Pippen\",\n",
        " \"PF\": \"Dennis Rodman\",\n",
        " \"C\": \"Luc Longley\"}\n",
        " \n",
        "player_set = set(player_list)\n",
        "print(type(player))\n",
        "print(type(player_list))\n",
        "print(type(player_tuple))\n",
        "print(type(player_dict))\n",
        "print(type(player_set))"
      ],
      "execution_count": 4,
      "outputs": [
        {
          "output_type": "stream",
          "text": [
            "<class 'str'>\n",
            "<class 'list'>\n",
            "<class 'tuple'>\n",
            "<class 'dict'>\n",
            "<class 'set'>\n"
          ],
          "name": "stdout"
        }
      ]
    },
    {
      "cell_type": "code",
      "metadata": {
        "id": "2Dhszfq4quIA",
        "colab_type": "code",
        "colab": {
          "base_uri": "https://localhost:8080/",
          "height": 34
        },
        "outputId": "d18ceb1e-bb5b-4d57-d40c-2789b134bd9c"
      },
      "source": [
        "s1 = \"春眠不覺曉，處處聞啼鳥。\"\n",
        "\n",
        "print(s1)\n"
      ],
      "execution_count": 5,
      "outputs": [
        {
          "output_type": "stream",
          "text": [
            "春眠不覺曉，處處聞啼鳥。\n"
          ],
          "name": "stdout"
        }
      ]
    },
    {
      "cell_type": "code",
      "metadata": {
        "id": "RXy4xxOwrhw4",
        "colab_type": "code",
        "colab": {
          "base_uri": "https://localhost:8080/",
          "height": 34
        },
        "outputId": "c69a62bc-ab14-4a16-fedc-4a6baa36f0f1"
      },
      "source": [
        "s2 = \"夜來風雨聲，花落知多少。\" \n",
        "\n",
        "print(s2)"
      ],
      "execution_count": 6,
      "outputs": [
        {
          "output_type": "stream",
          "text": [
            "夜來風雨聲，花落知多少。\n"
          ],
          "name": "stdout"
        }
      ]
    },
    {
      "cell_type": "code",
      "metadata": {
        "id": "6iQFeUjdrknY",
        "colab_type": "code",
        "colab": {
          "base_uri": "https://localhost:8080/",
          "height": 50
        },
        "outputId": "40aba437-8885-4b62-9637-e76d6b1062fd"
      },
      "source": [
        "s3 = '作者\"孟浩然\" 詩名\"春曉\"' \n",
        "print(s3)\n",
        "\n",
        "s4 = \"作者'孟浩然' 詩名'春曉'\"\n",
        "print(s4)\n"
      ],
      "execution_count": 7,
      "outputs": [
        {
          "output_type": "stream",
          "text": [
            "作者\"孟浩然\" 詩名\"春曉\"\n",
            "作者'孟浩然' 詩名'春曉'\n"
          ],
          "name": "stdout"
        }
      ]
    },
    {
      "cell_type": "code",
      "metadata": {
        "id": "aLlwrk_RsF8S",
        "colab_type": "code",
        "colab": {
          "base_uri": "https://localhost:8080/",
          "height": 84
        },
        "outputId": "b2cada8a-e9cd-48ce-af71-9437f7f1765e"
      },
      "source": [
        "s5 = ''' 春眠不覺曉，處處聞啼鳥。\n",
        " 夜來風雨聲，花落知多少。\n",
        " 作者\"孟浩然\" 詩名\"春曉\"\n",
        "'''\n",
        "\n",
        "print(s5)\n"
      ],
      "execution_count": 8,
      "outputs": [
        {
          "output_type": "stream",
          "text": [
            " 春眠不覺曉，處處聞啼鳥。\n",
            " 夜來風雨聲，花落知多少。\n",
            " 作者\"孟浩然\" 詩名\"春曉\"\n",
            "\n"
          ],
          "name": "stdout"
        }
      ]
    },
    {
      "cell_type": "code",
      "metadata": {
        "id": "wtXceAFOsLLL",
        "colab_type": "code",
        "colab": {
          "base_uri": "https://localhost:8080/",
          "height": 34
        },
        "outputId": "d032940a-23db-43c6-f51f-3d29f3202dcf"
      },
      "source": [
        "s1 =\"123\"\n",
        "s2 = \"456\"\n",
        "s3 = s1 + s2 \n",
        "\n",
        "print(s3)"
      ],
      "execution_count": 9,
      "outputs": [
        {
          "output_type": "stream",
          "text": [
            "123456\n"
          ],
          "name": "stdout"
        }
      ]
    },
    {
      "cell_type": "code",
      "metadata": {
        "id": "W2HRdLUasM_h",
        "colab_type": "code",
        "colab": {
          "base_uri": "https://localhost:8080/",
          "height": 34
        },
        "outputId": "8df593a9-b205-4372-ee1e-59492e1780cd"
      },
      "source": [
        "s4 = s1 * 2 \n",
        "\n",
        "print(s4)"
      ],
      "execution_count": 10,
      "outputs": [
        {
          "output_type": "stream",
          "text": [
            "123123\n"
          ],
          "name": "stdout"
        }
      ]
    },
    {
      "cell_type": "code",
      "metadata": {
        "id": "inmrz7c6sbdx",
        "colab_type": "code",
        "colab": {
          "base_uri": "https://localhost:8080/",
          "height": 67
        },
        "outputId": "b4f37bd3-ae74-48bd-f595-4cb0f7a4619c"
      },
      "source": [
        "s5 = '春眠不覺曉，處處聞啼鳥。\\n\\\n",
        "夜來風雨聲，花落知多少。\\n\\\n",
        "\\t作者\"孟浩然\" 詩名\"春曉\"'\n",
        "\n",
        "print(s5)\n"
      ],
      "execution_count": 12,
      "outputs": [
        {
          "output_type": "stream",
          "text": [
            "春眠不覺曉，處處聞啼鳥。\n",
            "夜來風雨聲，花落知多少。\n",
            "\t作者\"孟浩然\" 詩名\"春曉\"\n"
          ],
          "name": "stdout"
        }
      ]
    },
    {
      "cell_type": "code",
      "metadata": {
        "id": "x0PDjaJwsnJq",
        "colab_type": "code",
        "colab": {
          "base_uri": "https://localhost:8080/",
          "height": 84
        },
        "outputId": "59ed481c-78f9-40ef-de85-0787288bb882"
      },
      "source": [
        "s = \"0123456789\"\n",
        "\n",
        "print(s[0]) \n",
        "\n",
        "print('s[1]=', s[1])\n",
        "\n",
        "print(s[-1]) \n",
        "\n",
        "print('s[-2]=', s[-2])\n"
      ],
      "execution_count": 13,
      "outputs": [
        {
          "output_type": "stream",
          "text": [
            "0\n",
            "s[1]= 1\n",
            "9\n",
            "s[-2]= 8\n"
          ],
          "name": "stdout"
        }
      ]
    },
    {
      "cell_type": "code",
      "metadata": {
        "id": "LNoiXIzJtXHp",
        "colab_type": "code",
        "colab": {
          "base_uri": "https://localhost:8080/",
          "height": 202
        },
        "outputId": "c5e4fafb-fabb-4865-aa6f-b69460a688f4"
      },
      "source": [
        "s = \"0123456789\"\n",
        "print(\"s=\", s, \"s[:]=\", s[:])\n",
        "print(\"s=\", s, \"s[5:]=\", s[5:]) \n",
        "print(\"s=\", s, \"s[-2:]=\", s[-2:])\n",
        "print(\"s=\", s, \"s[:5]=\", s[:5]) \n",
        "print(\"s=\", s, \"s[:-2]=\", s[:-2])\n",
        "print(\"s=\", s, \"s[7:9]=\", s[7:9])\n",
        "print(\"s=\", s, \"s[-4:-1]=\", s[-4:-1])\n",
        "print(\"s=\", s, \"s[5:-2]=\", s[5:-2])\n",
        "print(\"s=\", s, \"s[2:10:2]=\", s[2:10:2])\n",
        "print(\"s=\", s, \"s[::-1]=\", s[::-1])\n",
        "print(\"s=\", s, \"s[-1::-1]=\", s[-1::-1])\n"
      ],
      "execution_count": 14,
      "outputs": [
        {
          "output_type": "stream",
          "text": [
            "s= 0123456789 s[:]= 0123456789\n",
            "s= 0123456789 s[5:]= 56789\n",
            "s= 0123456789 s[-2:]= 89\n",
            "s= 0123456789 s[:5]= 01234\n",
            "s= 0123456789 s[:-2]= 01234567\n",
            "s= 0123456789 s[7:9]= 78\n",
            "s= 0123456789 s[-4:-1]= 678\n",
            "s= 0123456789 s[5:-2]= 567\n",
            "s= 0123456789 s[2:10:2]= 2468\n",
            "s= 0123456789 s[::-1]= 9876543210\n",
            "s= 0123456789 s[-1::-1]= 9876543210\n"
          ],
          "name": "stdout"
        }
      ]
    },
    {
      "cell_type": "code",
      "metadata": {
        "id": "epitBQK4tx8h",
        "colab_type": "code",
        "colab": {
          "base_uri": "https://localhost:8080/",
          "height": 34
        },
        "outputId": "da5df7bf-22e3-4ce2-a8ce-82b5d7e8fafc"
      },
      "source": [
        "s = \"春眠不覺曉，處處聞啼鳥，夜來風雨聲，花落知多少。\"\n",
        "print(len(s))\n"
      ],
      "execution_count": 15,
      "outputs": [
        {
          "output_type": "stream",
          "text": [
            "24\n"
          ],
          "name": "stdout"
        }
      ]
    },
    {
      "cell_type": "code",
      "metadata": {
        "id": "L-iFHGMht4fZ",
        "colab_type": "code",
        "colab": {
          "base_uri": "https://localhost:8080/",
          "height": 34
        },
        "outputId": "b78e68fd-d2d2-4697-84df-ee8b6d85cab8"
      },
      "source": [
        "s = \"春眠不覺曉，處處聞啼鳥，夜來風雨聲，花落知多少。\"\n",
        "list1 = s.split(\"，\")\n",
        "print(list1)"
      ],
      "execution_count": 17,
      "outputs": [
        {
          "output_type": "stream",
          "text": [
            "['春眠不覺曉', '處處聞啼鳥', '夜來風雨聲', '花落知多少。']\n"
          ],
          "name": "stdout"
        }
      ]
    },
    {
      "cell_type": "code",
      "metadata": {
        "id": "t4foEz4suGL4",
        "colab_type": "code",
        "colab": {
          "base_uri": "https://localhost:8080/",
          "height": 34
        },
        "outputId": "fa043b95-57e4-47e1-e687-8f1a9b4dbc03"
      },
      "source": [
        "list1 = ['春眠不覺曉','處處聞啼鳥','夜來風雨聲','花落知多少。']\n",
        "\n",
        "s2='，'.join(list1)\n",
        "print(s2)\n"
      ],
      "execution_count": 18,
      "outputs": [
        {
          "output_type": "stream",
          "text": [
            "春眠不覺曉，處處聞啼鳥，夜來風雨聲，花落知多少。\n"
          ],
          "name": "stdout"
        }
      ]
    },
    {
      "cell_type": "code",
      "metadata": {
        "id": "Ijp0Z7tOuNPF",
        "colab_type": "code",
        "colab": {
          "base_uri": "https://localhost:8080/",
          "height": 34
        },
        "outputId": "cf31eeaa-edd5-49d4-ed1f-deb7e4b9a2ba"
      },
      "source": [
        "s1=\"春眠不覺曉，處處聞啼鳥，夜來風雨聲，花落知多少。\"\n",
        "print(s1.find('花落'))"
      ],
      "execution_count": 19,
      "outputs": [
        {
          "output_type": "stream",
          "text": [
            "18\n"
          ],
          "name": "stdout"
        }
      ]
    },
    {
      "cell_type": "code",
      "metadata": {
        "id": "TC8M6Z0JuQ2i",
        "colab_type": "code",
        "colab": {
          "base_uri": "https://localhost:8080/",
          "height": 34
        },
        "outputId": "c50fd62c-3c69-410d-d1ad-39dc32efe11f"
      },
      "source": [
        "s1=\"春眠不覺曉，處處聞啼鳥，夜來風雨聲，花落知多少。\"\n",
        "print(s1.count('處')) \n"
      ],
      "execution_count": 20,
      "outputs": [
        {
          "output_type": "stream",
          "text": [
            "2\n"
          ],
          "name": "stdout"
        }
      ]
    },
    {
      "cell_type": "code",
      "metadata": {
        "id": "ddBXTwm3udAA",
        "colab_type": "code",
        "colab": {
          "base_uri": "https://localhost:8080/",
          "height": 34
        },
        "outputId": "25580fb2-e24a-4ec7-ff7a-8b6d23db1ae7"
      },
      "source": [
        "s1=\"春眠不覺曉，處處聞啼鳥，夜來風雨聲，花落知多少。\"\n",
        "s3=s1.replace('春','冬') \n",
        "print(s3)\n"
      ],
      "execution_count": 22,
      "outputs": [
        {
          "output_type": "stream",
          "text": [
            "冬眠不覺曉，處處聞啼鳥，夜來風雨聲，花落知多少。\n"
          ],
          "name": "stdout"
        }
      ]
    },
    {
      "cell_type": "code",
      "metadata": {
        "id": "RRNLoRt_ul_R",
        "colab_type": "code",
        "colab": {
          "base_uri": "https://localhost:8080/",
          "height": 34
        },
        "outputId": "fa5367d9-c960-4d54-9306-8c98d6af7d28"
      },
      "source": [
        "s1=\"An apple a day.\"\n",
        "\n",
        "print(s1.capitalize())\n"
      ],
      "execution_count": 23,
      "outputs": [
        {
          "output_type": "stream",
          "text": [
            "An apple a day.\n"
          ],
          "name": "stdout"
        }
      ]
    },
    {
      "cell_type": "code",
      "metadata": {
        "id": "VsG9dGjnueM1",
        "colab_type": "code",
        "colab": {
          "base_uri": "https://localhost:8080/",
          "height": 34
        },
        "outputId": "a7da37af-ab9c-4fc6-b681-a3932362ad1a"
      },
      "source": [
        "s1=\"An apple a day.\"\n",
        "print(s1.title())\n"
      ],
      "execution_count": 24,
      "outputs": [
        {
          "output_type": "stream",
          "text": [
            "An Apple A Day.\n"
          ],
          "name": "stdout"
        }
      ]
    },
    {
      "cell_type": "code",
      "metadata": {
        "id": "P4MdmwvUuu0m",
        "colab_type": "code",
        "colab": {
          "base_uri": "https://localhost:8080/",
          "height": 34
        },
        "outputId": "0dbedec3-bad9-49c4-af4e-24dce9149e92"
      },
      "source": [
        "s1=\"An apple a day.\"\n",
        "print(s1.swapcase())"
      ],
      "execution_count": 25,
      "outputs": [
        {
          "output_type": "stream",
          "text": [
            "aN APPLE A DAY.\n"
          ],
          "name": "stdout"
        }
      ]
    },
    {
      "cell_type": "code",
      "metadata": {
        "id": "M_TO3A-Buzal",
        "colab_type": "code",
        "colab": {
          "base_uri": "https://localhost:8080/",
          "height": 34
        },
        "outputId": "bcc29fba-95e4-431f-e7da-3faa0c0ff5fa"
      },
      "source": [
        "s1=\"An apple a day.\"\n",
        "print(s1.upper())\n"
      ],
      "execution_count": 26,
      "outputs": [
        {
          "output_type": "stream",
          "text": [
            "AN APPLE A DAY.\n"
          ],
          "name": "stdout"
        }
      ]
    },
    {
      "cell_type": "code",
      "metadata": {
        "id": "CdaeUnJSu7wy",
        "colab_type": "code",
        "colab": {
          "base_uri": "https://localhost:8080/",
          "height": 34
        },
        "outputId": "3c6e2450-6867-46ce-9133-5ed5572d67d7"
      },
      "source": [
        "s1=\"An apple a day.\"\n",
        "print(s1.lower())"
      ],
      "execution_count": 27,
      "outputs": [
        {
          "output_type": "stream",
          "text": [
            "an apple a day.\n"
          ],
          "name": "stdout"
        }
      ]
    },
    {
      "cell_type": "code",
      "metadata": {
        "id": "-YSq3fgmvBQN",
        "colab_type": "code",
        "colab": {
          "base_uri": "https://localhost:8080/",
          "height": 84
        },
        "outputId": "853eda85-ad71-4367-990c-0335871bceab"
      },
      "source": [
        "t1 = ()\n",
        "print(t1) \n",
        "\n",
        "t2 = ('z', ) \n",
        "print(t2)\n",
        "\n",
        "t3 = (1, 2, 3)\n",
        "print(t3)\n",
        "\n",
        "t4 = (1,2,3,4)\n",
        "t5 = (t4,5,6)\n",
        "print(t5)\n"
      ],
      "execution_count": 28,
      "outputs": [
        {
          "output_type": "stream",
          "text": [
            "()\n",
            "('z',)\n",
            "(1, 2, 3)\n",
            "((1, 2, 3, 4), 5, 6)\n"
          ],
          "name": "stdout"
        }
      ]
    },
    {
      "cell_type": "code",
      "metadata": {
        "id": "csg-atuZvOvQ",
        "colab_type": "code",
        "colab": {
          "base_uri": "https://localhost:8080/",
          "height": 34
        },
        "outputId": "b7994c0c-7fa2-4fd6-d516-eb630847eef6"
      },
      "source": [
        "list1=[1,2,3,4]\n",
        "t6 = tuple(list1)\n",
        "print(t6)\n"
      ],
      "execution_count": 29,
      "outputs": [
        {
          "output_type": "stream",
          "text": [
            "(1, 2, 3, 4)\n"
          ],
          "name": "stdout"
        }
      ]
    },
    {
      "cell_type": "code",
      "metadata": {
        "id": "p4jcZY00vSmm",
        "colab_type": "code",
        "colab": {
          "base_uri": "https://localhost:8080/",
          "height": 67
        },
        "outputId": "9c330af7-e072-4d80-e9d3-24284ea0b426"
      },
      "source": [
        "t1= (1,2,3,4)\n",
        "t2 = (5,6,t2)\n",
        "\n",
        "print(len(t2))\n",
        "print(t2[0]) \n",
        "print(t2[2][0])\n"
      ],
      "execution_count": 30,
      "outputs": [
        {
          "output_type": "stream",
          "text": [
            "3\n",
            "5\n",
            "z\n"
          ],
          "name": "stdout"
        }
      ]
    },
    {
      "cell_type": "code",
      "metadata": {
        "id": "DT3QUFqYvcfN",
        "colab_type": "code",
        "colab": {
          "base_uri": "https://localhost:8080/",
          "height": 84
        },
        "outputId": "6f66aa09-8bc9-41b1-f5ea-4ed87ebfda3f"
      },
      "source": [
        "shoplist = ['牛奶', '蛋', '咖啡豆', '西瓜', '鳳梨']\n",
        "\n",
        "print('購物清單shoplist為')\n",
        "print(shoplist)\n",
        "\n",
        "listm = [1, 2.0, 'Python']\n",
        "\n",
        "print(\"串列可以包含各種資料型別的元素\")\n",
        "print(listm)"
      ],
      "execution_count": 32,
      "outputs": [
        {
          "output_type": "stream",
          "text": [
            "購物清單shoplist為\n",
            "['牛奶', '蛋', '咖啡豆', '西瓜', '鳳梨']\n",
            "串列可以包含各種資料型別的元素\n",
            "[1, 2.0, 'Python']\n"
          ],
          "name": "stdout"
        }
      ]
    },
    {
      "cell_type": "code",
      "metadata": {
        "id": "7G4JYT7AvhYm",
        "colab_type": "code",
        "colab": {
          "base_uri": "https://localhost:8080/",
          "height": 34
        },
        "outputId": "cdb74a44-e635-422f-dbe2-c2734ee9e906"
      },
      "source": [
        "tuple2 = ('a', 'b', 1, 2)\n",
        "list2 = list(tuple2)\n",
        "\n",
        "print(list2)\n"
      ],
      "execution_count": 33,
      "outputs": [
        {
          "output_type": "stream",
          "text": [
            "['a', 'b', 1, 2]\n"
          ],
          "name": "stdout"
        }
      ]
    },
    {
      "cell_type": "code",
      "metadata": {
        "id": "oFQyhUVVvi_l",
        "colab_type": "code",
        "colab": {
          "base_uri": "https://localhost:8080/",
          "height": 34
        },
        "outputId": "c7f07219-40a8-4e5e-f664-b48a690bc6c0"
      },
      "source": [
        "shoplist1 = ['牛奶', '蛋', '咖啡豆']\n",
        "\n",
        "shoplist2 = ['西瓜', '鳳梨']\n",
        "\n",
        "shoplist_all = shoplist1 + shoplist2\n",
        "\n",
        "print(shoplist_all)"
      ],
      "execution_count": 34,
      "outputs": [
        {
          "output_type": "stream",
          "text": [
            "['牛奶', '蛋', '咖啡豆', '西瓜', '鳳梨']\n"
          ],
          "name": "stdout"
        }
      ]
    },
    {
      "cell_type": "code",
      "metadata": {
        "id": "9vE8l7E3vpZ3",
        "colab_type": "code",
        "colab": {
          "base_uri": "https://localhost:8080/",
          "height": 50
        },
        "outputId": "39603186-7d6c-406d-e7e2-63f543e8cd73"
      },
      "source": [
        "shoplist = ['牛奶', '蛋', '咖啡豆', '西瓜', '鳳梨']\n",
        "\n",
        "print('顯示shoplist[0]為',shoplist[0])\n",
        "\n",
        "print('顯示shoplist[1]為',shoplist[1])"
      ],
      "execution_count": 36,
      "outputs": [
        {
          "output_type": "stream",
          "text": [
            "顯示shoplist[0]為 牛奶\n",
            "顯示shoplist[1]為 蛋\n"
          ],
          "name": "stdout"
        }
      ]
    },
    {
      "cell_type": "code",
      "metadata": {
        "id": "tGOhXvtLvytk",
        "colab_type": "code",
        "colab": {
          "base_uri": "https://localhost:8080/",
          "height": 50
        },
        "outputId": "ee10753d-8ad1-4ff3-ec17-6a6e9139f03c"
      },
      "source": [
        "shoplist = ['牛奶', '蛋', '咖啡豆', '西瓜', '鳳梨']\n",
        "index = shoplist.index('咖啡豆')\n",
        "\n",
        "print(\"執行 index = shoplist.index('咖啡豆') 後\")\n",
        "\n",
        "print('index=', index)\n"
      ],
      "execution_count": 37,
      "outputs": [
        {
          "output_type": "stream",
          "text": [
            "執行 index = shoplist.index('咖啡豆') 後\n",
            "index= 2\n"
          ],
          "name": "stdout"
        }
      ]
    },
    {
      "cell_type": "code",
      "metadata": {
        "id": "XX-4ZRaJv4ug",
        "colab_type": "code",
        "colab": {
          "base_uri": "https://localhost:8080/",
          "height": 50
        },
        "outputId": "de92b8bd-52a8-4065-b0f4-e69280f1935a"
      },
      "source": [
        "shoplist = ['牛奶', '蛋', '咖啡豆', '西瓜', '鳳梨']\n",
        "shoplist[1] = '皮蛋'\n",
        "\n",
        "print(\"執行 shoplist[1] = '皮蛋' 後\")\n",
        "print(shoplist)\n"
      ],
      "execution_count": 38,
      "outputs": [
        {
          "output_type": "stream",
          "text": [
            "執行 shoplist[1] = '皮蛋' 後\n",
            "['牛奶', '皮蛋', '咖啡豆', '西瓜', '鳳梨']\n"
          ],
          "name": "stdout"
        }
      ]
    },
    {
      "cell_type": "code",
      "metadata": {
        "id": "0LNAZ8_1v7B2",
        "colab_type": "code",
        "colab": {
          "base_uri": "https://localhost:8080/",
          "height": 185
        },
        "outputId": "40e355c4-5b36-45d5-e3dd-4a6d0ec8f86f"
      },
      "source": [
        "shoplist = ['牛奶', '蛋', '咖啡豆', '西瓜', '鳳梨']\n",
        "a = list('abcdefghijk')\n",
        "\n",
        "print('a[:]為', a[:])\n",
        "print('a[:5]為', a[:5])\n",
        "print('a[5:]為', a[5:])\n",
        "print('a[:-5]為', a[:-5])\n",
        "print('a[-5:]為', a[-5:])\n",
        "print('a[0:4]為', a[0:4])\n",
        "print('a[-5:-3]為', a[-5:-3])\n",
        "print('a[1:10:3]為', a[1:10:3])\n",
        "print('a[-1:-4:-1]為', a[-1:-4:-1])\n",
        "print('a[::-1]為', a[::-1])"
      ],
      "execution_count": 39,
      "outputs": [
        {
          "output_type": "stream",
          "text": [
            "a[:]為 ['a', 'b', 'c', 'd', 'e', 'f', 'g', 'h', 'i', 'j', 'k']\n",
            "a[:5]為 ['a', 'b', 'c', 'd', 'e']\n",
            "a[5:]為 ['f', 'g', 'h', 'i', 'j', 'k']\n",
            "a[:-5]為 ['a', 'b', 'c', 'd', 'e', 'f']\n",
            "a[-5:]為 ['g', 'h', 'i', 'j', 'k']\n",
            "a[0:4]為 ['a', 'b', 'c', 'd']\n",
            "a[-5:-3]為 ['g', 'h']\n",
            "a[1:10:3]為 ['b', 'e', 'h']\n",
            "a[-1:-4:-1]為 ['k', 'j', 'i']\n",
            "a[::-1]為 ['k', 'j', 'i', 'h', 'g', 'f', 'e', 'd', 'c', 'b', 'a']\n"
          ],
          "name": "stdout"
        }
      ]
    },
    {
      "cell_type": "code",
      "metadata": {
        "id": "HShtNvNawAhy",
        "colab_type": "code",
        "colab": {
          "base_uri": "https://localhost:8080/",
          "height": 34
        },
        "outputId": "d4b6e80d-5421-40be-993a-721d7799a153"
      },
      "source": [
        "shoplist = ['牛奶', '蛋', '咖啡豆', '西瓜', '鳳梨']\n",
        "\n",
        "print('購物清單shoplist的長度為', len(shoplist))\n"
      ],
      "execution_count": 40,
      "outputs": [
        {
          "output_type": "stream",
          "text": [
            "購物清單shoplist的長度為 5\n"
          ],
          "name": "stdout"
        }
      ]
    },
    {
      "cell_type": "code",
      "metadata": {
        "id": "WdeEKZ7uwHce",
        "colab_type": "code",
        "colab": {
          "base_uri": "https://localhost:8080/",
          "height": 50
        },
        "outputId": "1e05363b-6069-46b1-baa2-ab2743de27ca"
      },
      "source": [
        "shoplist = ['牛奶', '蛋', '咖啡豆', '西瓜', '鳳梨']\n",
        "shoplist.append('麵包') \n",
        "\n",
        "print(\"執行 shoplist.append('麵包')後\")\n",
        "\n",
        "print(shoplist)\n",
        "\n"
      ],
      "execution_count": 41,
      "outputs": [
        {
          "output_type": "stream",
          "text": [
            "執行 shoplist.append('麵包')後\n",
            "['牛奶', '蛋', '咖啡豆', '西瓜', '鳳梨', '麵包']\n"
          ],
          "name": "stdout"
        }
      ]
    },
    {
      "cell_type": "code",
      "metadata": {
        "id": "SLJi5tqfwL-1",
        "colab_type": "code",
        "colab": {
          "base_uri": "https://localhost:8080/",
          "height": 50
        },
        "outputId": "aee39287-09c0-4611-e864-8379643054be"
      },
      "source": [
        "shoplist = ['牛奶', '蛋', '咖啡豆', '西瓜', '鳳梨']\n",
        "shoplist.insert(4, '蘋果')\n",
        "print(\"執行 shoplist.insert(4, '蘋果') 後\")\n",
        "print(shoplist)\n"
      ],
      "execution_count": 42,
      "outputs": [
        {
          "output_type": "stream",
          "text": [
            "執行 shoplist.insert(4, '蘋果') 後\n",
            "['牛奶', '蛋', '咖啡豆', '西瓜', '蘋果', '鳳梨']\n"
          ],
          "name": "stdout"
        }
      ]
    },
    {
      "cell_type": "code",
      "metadata": {
        "id": "r74n8LIXwP4M",
        "colab_type": "code",
        "colab": {
          "base_uri": "https://localhost:8080/",
          "height": 50
        },
        "outputId": "b8ac024e-261f-46ee-ab89-1a6e5568440e"
      },
      "source": [
        "shoplist = ['牛奶', '蛋', '咖啡豆', '西瓜', '鳳梨']\n",
        "shoplist.remove('蛋') \n",
        "\n",
        "print(\"執行 shoplist.remove('蛋') 後\")\n",
        "\n",
        "print(shoplist)\n"
      ],
      "execution_count": 43,
      "outputs": [
        {
          "output_type": "stream",
          "text": [
            "執行 shoplist.remove('蛋') 後\n",
            "['牛奶', '咖啡豆', '西瓜', '鳳梨']\n"
          ],
          "name": "stdout"
        }
      ]
    },
    {
      "cell_type": "code",
      "metadata": {
        "id": "n9QNdGPrwULc",
        "colab_type": "code",
        "colab": {
          "base_uri": "https://localhost:8080/",
          "height": 118
        },
        "outputId": "5088c20b-b98b-4106-b9c5-58d2c591c99b"
      },
      "source": [
        "shoplist = ['牛奶', '蛋', '咖啡豆', '西瓜', '鳳梨']\n",
        "shoplist.pop(0)\n",
        "\n",
        "print(\"執行 shoplist.pop(0) 後\")\n",
        "print(shoplist)\n",
        "\n",
        "shoplist.pop() \n",
        "print(\"執行 shoplist.pop() 後\")\n",
        "print(shoplist)\n",
        "\n",
        "shoplist.pop(-1)\n",
        "print(\"執行 shoplist.pop(-1) 後\")\n",
        "print(shoplist)"
      ],
      "execution_count": 44,
      "outputs": [
        {
          "output_type": "stream",
          "text": [
            "執行 shoplist.pop(0) 後\n",
            "['蛋', '咖啡豆', '西瓜', '鳳梨']\n",
            "執行 shoplist.pop() 後\n",
            "['蛋', '咖啡豆', '西瓜']\n",
            "執行 shoplist.pop(-1) 後\n",
            "['蛋', '咖啡豆']\n"
          ],
          "name": "stdout"
        }
      ]
    },
    {
      "cell_type": "code",
      "metadata": {
        "id": "A0Qdlt-Dwd5W",
        "colab_type": "code",
        "colab": {
          "base_uri": "https://localhost:8080/",
          "height": 50
        },
        "outputId": "0db88eaa-e66b-4269-f664-d50c0e56be39"
      },
      "source": [
        "shoplist = ['牛奶', '蛋', '咖啡豆', '西瓜', '鳳梨']\n",
        "del shoplist[0] \n",
        "\n",
        "print(\"執行 del shoplist[0] 後\")\n",
        "print(shoplist)\n"
      ],
      "execution_count": 45,
      "outputs": [
        {
          "output_type": "stream",
          "text": [
            "執行 del shoplist[0] 後\n",
            "['蛋', '咖啡豆', '西瓜', '鳳梨']\n"
          ],
          "name": "stdout"
        }
      ]
    },
    {
      "cell_type": "code",
      "metadata": {
        "id": "P0U_LnIlwlXF",
        "colab_type": "code",
        "colab": {
          "base_uri": "https://localhost:8080/",
          "height": 118
        },
        "outputId": "748b6a1e-8e65-4735-dc5a-f54911a71d87"
      },
      "source": [
        "shoplist = ['牛奶', '蛋', '咖啡豆', '西瓜', '鳳梨']\n",
        "shoplist.sort()\n",
        "\n",
        "print(\"執行 shoplist.sort() 後\")\n",
        "print(shoplist)\n",
        "\n",
        "shoplist = ['milk', 'egg', 'coffee', 'watermelon']\n",
        "shoplist.sort() \n",
        "\n",
        "print(\"執行 shoplist.sort() 後\")\n",
        "print(shoplist)\n",
        "shoplist.sort(reverse=True) \n",
        "\n",
        "print(\"執行 shoplist.sort(reverse=True) 後\")\n",
        "print(shoplist)\n"
      ],
      "execution_count": 46,
      "outputs": [
        {
          "output_type": "stream",
          "text": [
            "執行 shoplist.sort() 後\n",
            "['咖啡豆', '牛奶', '蛋', '西瓜', '鳳梨']\n",
            "執行 shoplist.sort() 後\n",
            "['coffee', 'egg', 'milk', 'watermelon']\n",
            "執行 shoplist.sort(reverse=True) 後\n",
            "['watermelon', 'milk', 'egg', 'coffee']\n"
          ],
          "name": "stdout"
        }
      ]
    },
    {
      "cell_type": "code",
      "metadata": {
        "id": "O22TrLrYwyg5",
        "colab_type": "code",
        "colab": {
          "base_uri": "https://localhost:8080/",
          "height": 118
        },
        "outputId": "f43ee659-7fb4-4e0d-dd97-f08cc6020a38"
      },
      "source": [
        "list1 = [1, 2, 3, 4]\n",
        "list2 = list1\n",
        "\n",
        "print('list1=', list1)\n",
        "print('list2=', list2)\n",
        "\n",
        "list1[2]=19\n",
        "print('list1=', list1)\n",
        "print('list2=', list2)\n",
        "\n",
        "list2[2]=18\n",
        "print('list1=', list1)\n",
        "print('list2=', list2)"
      ],
      "execution_count": 47,
      "outputs": [
        {
          "output_type": "stream",
          "text": [
            "list1= [1, 2, 3, 4]\n",
            "list2= [1, 2, 3, 4]\n",
            "list1= [1, 2, 19, 4]\n",
            "list2= [1, 2, 19, 4]\n",
            "list1= [1, 2, 18, 4]\n",
            "list2= [1, 2, 18, 4]\n"
          ],
          "name": "stdout"
        }
      ]
    },
    {
      "cell_type": "code",
      "metadata": {
        "id": "HOeBtVchw7sa",
        "colab_type": "code",
        "colab": {
          "base_uri": "https://localhost:8080/",
          "height": 84
        },
        "outputId": "979f55c0-b8fb-4cc7-be2c-62efbedb2c8d"
      },
      "source": [
        "list1 = [1, 2, 3, 4]\n",
        "list4 = list1.copy()\n",
        "print('list1 = ', list1)\n",
        "print('list4 = ', list4)\n",
        "\n",
        "list4[2] = 19\n",
        "print('list1=', list1)\n",
        "print('list4=', list4)"
      ],
      "execution_count": 48,
      "outputs": [
        {
          "output_type": "stream",
          "text": [
            "list1 =  [1, 2, 3, 4]\n",
            "list4 =  [1, 2, 3, 4]\n",
            "list1= [1, 2, 3, 4]\n",
            "list4= [1, 2, 19, 4]\n"
          ],
          "name": "stdout"
        }
      ]
    },
    {
      "cell_type": "code",
      "metadata": {
        "id": "PAblUwKgxJwH",
        "colab_type": "code",
        "colab": {
          "base_uri": "https://localhost:8080/",
          "height": 50
        },
        "outputId": "f9dec25d-ebb4-4ff0-d95c-fd2eb1137f0f"
      },
      "source": [
        "dict1={}\n",
        "print(dict1\n",
        "      )\n",
        "lang={'早安':'Good Morning', '你好':'Hello'}\n",
        "print(lang)\n"
      ],
      "execution_count": 50,
      "outputs": [
        {
          "output_type": "stream",
          "text": [
            "{}\n",
            "{'早安': 'Good Morning', '你好': 'Hello'}\n"
          ],
          "name": "stdout"
        }
      ]
    },
    {
      "cell_type": "code",
      "metadata": {
        "id": "2OU5gCt_xMmE",
        "colab_type": "code",
        "colab": {
          "base_uri": "https://localhost:8080/",
          "height": 84
        },
        "outputId": "81e827d2-1348-4aa0-d2a2-2086abd1cc04"
      },
      "source": [
        "a=[['早安','Good Morning'],['你好','Hello']] \n",
        "dict1 = dict(a)\n",
        "print(dict1)\n",
        "\n",
        "b=[('早安','Good Morning'),('你好','Hello')] \n",
        "dict2 = dict(b)\n",
        "print(dict2)\n",
        "\n",
        "c=(['早安','Good Morning'],['你好','Hello'])\n",
        "dict3 = dict(c)\n",
        "print(dict3)\n",
        "\n",
        "d=(('早安','Good Morning'),('你好','Hello'))\n",
        "dict4 = dict(d)\n",
        "print(dict4)\n",
        "\n"
      ],
      "execution_count": 52,
      "outputs": [
        {
          "output_type": "stream",
          "text": [
            "{'早安': 'Good Morning', '你好': 'Hello'}\n",
            "{'早安': 'Good Morning', '你好': 'Hello'}\n",
            "{'早安': 'Good Morning', '你好': 'Hello'}\n",
            "{'早安': 'Good Morning', '你好': 'Hello'}\n"
          ],
          "name": "stdout"
        }
      ]
    },
    {
      "cell_type": "code",
      "metadata": {
        "id": "nIiAjv4fxaA9",
        "colab_type": "code",
        "colab": {
          "base_uri": "https://localhost:8080/",
          "height": 101
        },
        "outputId": "db0dc411-8f63-4ebe-8892-6a54c6858876"
      },
      "source": [
        "s = {1,2,3,4}\n",
        "print(s)\n",
        "\n",
        "s = set(('a',1,'b',2))\n",
        "print(s) \n",
        "\n",
        "s = set(['apple', 'banana', 'apple'])\n",
        "print(s) \n",
        "\n",
        "s = set({'早安':'Good Morning', '你好':'Hello'})\n",
        "print(s) \n",
        "\n",
        "s = set('racecar')\n",
        "print(s)"
      ],
      "execution_count": 53,
      "outputs": [
        {
          "output_type": "stream",
          "text": [
            "{1, 2, 3, 4}\n",
            "{1, 2, 'b', 'a'}\n",
            "{'apple', 'banana'}\n",
            "{'你好', '早安'}\n",
            "{'r', 'c', 'e', 'a'}\n"
          ],
          "name": "stdout"
        }
      ]
    }
  ]
}