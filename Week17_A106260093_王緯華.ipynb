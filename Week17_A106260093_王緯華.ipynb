{
  "nbformat": 4,
  "nbformat_minor": 0,
  "metadata": {
    "colab": {
      "name": "Week17/A106260093/王緯華.ipynb",
      "provenance": [],
      "include_colab_link": true
    },
    "kernelspec": {
      "name": "python3",
      "display_name": "Python 3"
    }
  },
  "cells": [
    {
      "cell_type": "markdown",
      "metadata": {
        "id": "view-in-github",
        "colab_type": "text"
      },
      "source": [
        "<a href=\"https://colab.research.google.com/github/Wang-wei-hua9/Computational-Thinking-and-Programming-Design/blob/master/Week17_A106260093_%E7%8E%8B%E7%B7%AF%E8%8F%AF.ipynb\" target=\"_parent\"><img src=\"https://colab.research.google.com/assets/colab-badge.svg\" alt=\"Open In Colab\"/></a>"
      ]
    },
    {
      "cell_type": "code",
      "metadata": {
        "id": "_X_2Zcj5sIQe",
        "colab_type": "code",
        "colab": {
          "base_uri": "https://localhost:8080/",
          "height": 102
        },
        "outputId": "e52aefd9-3083-4df3-86ec-792e7adaa5b5"
      },
      "source": [
        "sum=0\n",
        "for a in range(1,10,2):\n",
        "\n",
        "  sum=sum+a\n",
        "\n",
        "  print(\"a為\",a,\"加總結果為\",sum)"
      ],
      "execution_count": 10,
      "outputs": [
        {
          "output_type": "stream",
          "text": [
            "a為 1 加總結果為 1\n",
            "a為 3 加總結果為 4\n",
            "a為 5 加總結果為 9\n",
            "a為 7 加總結果為 16\n",
            "a為 9 加總結果為 25\n"
          ],
          "name": "stdout"
        }
      ]
    },
    {
      "cell_type": "code",
      "metadata": {
        "id": "k1JSfu6vtoyz",
        "colab_type": "code",
        "colab": {
          "base_uri": "https://localhost:8080/",
          "height": 119
        },
        "outputId": "cd9b72e8-9f30-4650-d5b0-1bddceefd985"
      },
      "source": [
        "n=int(input(\"請輸入n值?\"))\n",
        "sum =0\n",
        "\n",
        "for a in range(1,n+1,1):\n",
        "  sum=sum+n*n\n",
        "  print(\"a為\",a,\"加總結果為\",sum)"
      ],
      "execution_count": 14,
      "outputs": [
        {
          "output_type": "stream",
          "text": [
            "請輸入n值?5\n",
            "a為 1 加總結果為 25\n",
            "a為 2 加總結果為 50\n",
            "a為 3 加總結果為 75\n",
            "a為 4 加總結果為 100\n",
            "a為 5 加總結果為 125\n"
          ],
          "name": "stdout"
        }
      ]
    },
    {
      "cell_type": "code",
      "metadata": {
        "id": "HAagCTM7unTA",
        "colab_type": "code",
        "colab": {
          "base_uri": "https://localhost:8080/",
          "height": 85
        },
        "outputId": "2ba1e64a-d167-40df-867a-a6df300d9894"
      },
      "source": [
        "sum=0\n",
        "for a in range(3,13,3):\n",
        "  sum=sum+a\n",
        "  print(\"a為\",a,\"加總結果為\",sum)"
      ],
      "execution_count": 13,
      "outputs": [
        {
          "output_type": "stream",
          "text": [
            "a為 3 加總結果為 3\n",
            "a為 6 加總結果為 9\n",
            "a為 9 加總結果為 18\n",
            "a為 12 加總結果為 30\n"
          ],
          "name": "stdout"
        }
      ]
    },
    {
      "cell_type": "code",
      "metadata": {
        "id": "r73uVYeCxJOZ",
        "colab_type": "code",
        "colab": {
          "base_uri": "https://localhost:8080/",
          "height": 136
        },
        "outputId": "b10184ef-1f29-425f-9bca-33d595340ccb"
      },
      "source": [
        "sum=0\n",
        "start=int(input(\"請輸入start值?\"))\n",
        "end=int(input(\"請輸入end值?\"))\n",
        "step=int(input(\"請輸入step值?\"))\n",
        "for a in range(start,end,step):\n",
        "  sum =sum+a\n",
        "  print(\"a為\",a,\"加總結果為\",sum)"
      ],
      "execution_count": 15,
      "outputs": [
        {
          "output_type": "stream",
          "text": [
            "請輸入start值?1\n",
            "請輸入end值?5\n",
            "請輸入step值?1\n",
            "a為 1 加總結果為 1\n",
            "a為 2 加總結果為 3\n",
            "a為 3 加總結果為 6\n",
            "a為 4 加總結果為 10\n"
          ],
          "name": "stdout"
        }
      ]
    },
    {
      "cell_type": "code",
      "metadata": {
        "id": "Bkcsrel0yEDT",
        "colab_type": "code",
        "colab": {
          "base_uri": "https://localhost:8080/",
          "height": 170
        },
        "outputId": "a5db58dc-4249-48da-fca3-aba7fbb1ca58"
      },
      "source": [
        "for a in range(1,10,1):\n",
        "  for b in range(1,10,1):\n",
        "    print(a, \"*\", b, \"=\", a*b, '\\t', sep=\"\",end=\"\")\n",
        "  print()\n",
        "    "
      ],
      "execution_count": 26,
      "outputs": [
        {
          "output_type": "stream",
          "text": [
            "1*1=1\t1*2=2\t1*3=3\t1*4=4\t1*5=5\t1*6=6\t1*7=7\t1*8=8\t1*9=9\t\n",
            "2*1=2\t2*2=4\t2*3=6\t2*4=8\t2*5=10\t2*6=12\t2*7=14\t2*8=16\t2*9=18\t\n",
            "3*1=3\t3*2=6\t3*3=9\t3*4=12\t3*5=15\t3*6=18\t3*7=21\t3*8=24\t3*9=27\t\n",
            "4*1=4\t4*2=8\t4*3=12\t4*4=16\t4*5=20\t4*6=24\t4*7=28\t4*8=32\t4*9=36\t\n",
            "5*1=5\t5*2=10\t5*3=15\t5*4=20\t5*5=25\t5*6=30\t5*7=35\t5*8=40\t5*9=45\t\n",
            "6*1=6\t6*2=12\t6*3=18\t6*4=24\t6*5=30\t6*6=36\t6*7=42\t6*8=48\t6*9=54\t\n",
            "7*1=7\t7*2=14\t7*3=21\t7*4=28\t7*5=35\t7*6=42\t7*7=49\t7*8=56\t7*9=63\t\n",
            "8*1=8\t8*2=16\t8*3=24\t8*4=32\t8*5=40\t8*6=48\t8*7=56\t8*8=64\t8*9=72\t\n",
            "9*1=9\t9*2=18\t9*3=27\t9*4=36\t9*5=45\t9*6=54\t9*7=63\t9*8=72\t9*9=81\t\n"
          ],
          "name": "stdout"
        }
      ]
    },
    {
      "cell_type": "code",
      "metadata": {
        "id": "S1LDHNUJ1DWl",
        "colab_type": "code",
        "colab": {
          "base_uri": "https://localhost:8080/",
          "height": 170
        },
        "outputId": "3bdbd7ff-6ad3-40a7-83e9-b2ed09fa144d"
      },
      "source": [
        "for i in range(6):\n",
        "  print(i)\n",
        "  if i % 2==0:\n",
        "    print(i, \"is even\")\n",
        "  else:\n",
        "    continue\n",
        "    print(i,\"is odd\")"
      ],
      "execution_count": 27,
      "outputs": [
        {
          "output_type": "stream",
          "text": [
            "0\n",
            "0 is even\n",
            "1\n",
            "2\n",
            "2 is even\n",
            "3\n",
            "4\n",
            "4 is even\n",
            "5\n"
          ],
          "name": "stdout"
        }
      ]
    },
    {
      "cell_type": "code",
      "metadata": {
        "id": "wIcQw6Fj6wNq",
        "colab_type": "code",
        "colab": {}
      },
      "source": [
        ""
      ],
      "execution_count": 0,
      "outputs": []
    }
  ]
}