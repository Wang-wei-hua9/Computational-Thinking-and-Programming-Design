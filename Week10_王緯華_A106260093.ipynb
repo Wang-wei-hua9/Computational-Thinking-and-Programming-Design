{
  "nbformat": 4,
  "nbformat_minor": 0,
  "metadata": {
    "colab": {
      "name": "Week10/王緯華/A106260093.ipynb",
      "provenance": [],
      "include_colab_link": true
    },
    "kernelspec": {
      "name": "python3",
      "display_name": "Python 3"
    }
  },
  "cells": [
    {
      "cell_type": "markdown",
      "metadata": {
        "id": "view-in-github",
        "colab_type": "text"
      },
      "source": [
        "<a href=\"https://colab.research.google.com/github/Wang-wei-hua9/Computational-Thinking-and-Programming-Design/blob/master/Week10_%E7%8E%8B%E7%B7%AF%E8%8F%AF_A106260093.ipynb\" target=\"_parent\"><img src=\"https://colab.research.google.com/assets/colab-badge.svg\" alt=\"Open In Colab\"/></a>"
      ]
    },
    {
      "cell_type": "code",
      "metadata": {
        "id": "c0JBd506RYU3",
        "colab_type": "code",
        "colab": {
          "base_uri": "https://localhost:8080/",
          "height": 323
        },
        "outputId": "5db67137-8efa-44f3-f7a7-04dbe4195874"
      },
      "source": [
        "print(\"玩的話請輸入LOOK\")\n",
        "do = input(\"玩的話請輸入LOOK\")\n",
        "\n",
        "if do ==\"LOOK\":    \n",
        "  print(\"被困沙洲\")\n",
        "  print(\"選擇左轉或右轉\")\n",
        "  \n",
        "  do = input(\"::\")    \n",
        "  if do == \"左轉\":\n",
        "    print(\"你看到海星跟螃蟹\")    \n",
        "    print(\"你要吃哪個?\")    \n",
        "    \n",
        "    do = input(\"::\")    \n",
        "    if do ==\"海星\":    \n",
        "      print(\"你死亡了\")    \n",
        "      print(\"你並未獲救\")\n",
        "    elif do ==\"螃蟹\":    \n",
        "      print(\"生吃螃蟹好嗎?好或不好\")\n",
        "\n",
        "      do =input(\"::\")\n",
        "      if do ==\"好\":    \n",
        "        print(\"幸運喔!\") \n",
        "        print(\"看到前面有樹!\") \n",
        "\n",
        "        do = input(\"::\")\n",
        "        if do ==\"樹\":    \n",
        "          print(\"是椰子樹\")\n",
        "          print(\"看到椰子樹要喝椰子汁嗎?填要或不要\")\n",
        "\n",
        "          do= input(\"::\")\n",
        "          if do ==\"要\":    \n",
        "            print(\"椰子水跟螃蟹不能一起吃，你已陣亡\")\n",
        "          elif do ==\"不要\":\n",
        "            print(\"好選擇!\")\n",
        "            print(\"恭喜獲救\")\n",
        "    elif do ==\"不\":    \n",
        "      print(\"你並未獲救你已死亡\")\n",
        "  elif do ==\"右轉\":\n",
        "    print(\"跌入洞穴你已死亡\")\n",
        "else:    \n",
        "  print(\"只能輸入大寫\")\n",
        "    \n",
        "\n"
      ],
      "execution_count": 15,
      "outputs": [
        {
          "output_type": "stream",
          "text": [
            "玩的話請輸入LOOK\n",
            "玩的話請輸入LOOKLOOK\n",
            "被困沙洲\n",
            "選擇左轉或右轉\n",
            "::左轉\n",
            "你看到海星跟螃蟹\n",
            "你要吃哪個?\n",
            "::螃蟹\n",
            "生吃螃蟹好嗎?好或不好\n",
            "::好\n",
            "幸運喔!\n",
            "看到前面有樹!\n",
            "::樹\n",
            "是椰子樹\n",
            "看到椰子樹要喝椰子汁嗎?填要或不要\n",
            "::不要\n",
            "好選擇!\n",
            "恭喜獲救\n"
          ],
          "name": "stdout"
        }
      ]
    },
    {
      "cell_type": "code",
      "metadata": {
        "id": "0Ezrmk6NdCAx",
        "colab_type": "code",
        "colab": {
          "base_uri": "https://localhost:8080/",
          "height": 85
        },
        "outputId": "51d76deb-8868-44af-b06f-8ed7e23bff36"
      },
      "source": [
        "import random\n",
        "my_choice = int(input(\"請出拳 [0] 剪⼑ [1] ⽯頭 [2] 布\"))\n",
        "print(\"我出拳為\", my_choice)\n",
        "com_choice = random.randint(0, 2)\n",
        "print(\"電腦出拳為\", com_choice)\n",
        "\n",
        "if my_choice == (com_choice + 1) % 3:    \n",
        "  print(\"我贏了\")\n",
        "elif my_choice == com_choice:    \n",
        "  print(\"平⼿\")\n",
        "else:    \n",
        "  print(\"我輸了\")"
      ],
      "execution_count": 23,
      "outputs": [
        {
          "output_type": "stream",
          "text": [
            "請出拳 [0] 剪⼑ [1] ⽯頭 [2] 布2\n",
            "我出拳為 2\n",
            "電腦出拳為 1\n",
            "我贏了\n"
          ],
          "name": "stdout"
        }
      ]
    },
    {
      "cell_type": "code",
      "metadata": {
        "id": "BQ05KLremM-U",
        "colab_type": "code",
        "colab": {
          "base_uri": "https://localhost:8080/",
          "height": 68
        },
        "outputId": "b7403d27-ed60-47a2-81fc-cb329809bba9"
      },
      "source": [
        "import random\n",
        "my_choice = int(input(\"請出拳 [0] 蟲 [1] 雞 [2] 老虎 [3] 棒⼦\"))\n",
        "print(\"你出的拳:\", my_choice)\n",
        "\n",
        "com_choice = random.randint(0, 3)\n",
        "print(\"電腦出拳為\",com_choice)"
      ],
      "execution_count": 35,
      "outputs": [
        {
          "output_type": "stream",
          "text": [
            "請出拳 [0] 蟲 [1] 雞 [2] 老虎 [3] 棒⼦0\n",
            "你出的拳: 0\n",
            "電腦出拳為 1\n"
          ],
          "name": "stdout"
        }
      ]
    },
    {
      "cell_type": "code",
      "metadata": {
        "id": "7Gtm9EZFnk1W",
        "colab_type": "code",
        "colab": {}
      },
      "source": [
        ""
      ],
      "execution_count": 0,
      "outputs": []
    },
    {
      "cell_type": "code",
      "metadata": {
        "id": "n1TxfmmQnVd2",
        "colab_type": "code",
        "colab": {}
      },
      "source": [
        ""
      ],
      "execution_count": 0,
      "outputs": []
    }
  ]
}