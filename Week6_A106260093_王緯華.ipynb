{
  "nbformat": 4,
  "nbformat_minor": 0,
  "metadata": {
    "colab": {
      "name": "Week6/A106260093/王緯華.ipynb",
      "provenance": [],
      "include_colab_link": true
    },
    "kernelspec": {
      "name": "python3",
      "display_name": "Python 3"
    }
  },
  "cells": [
    {
      "cell_type": "markdown",
      "metadata": {
        "id": "view-in-github",
        "colab_type": "text"
      },
      "source": [
        "<a href=\"https://colab.research.google.com/github/Wang-wei-hua9/Computational-Thinking-and-Programming-Design/blob/master/Week6_A106260093_%E7%8E%8B%E7%B7%AF%E8%8F%AF.ipynb\" target=\"_parent\"><img src=\"https://colab.research.google.com/assets/colab-badge.svg\" alt=\"Open In Colab\"/></a>"
      ]
    },
    {
      "cell_type": "code",
      "metadata": {
        "id": "1cHrzbHigu1_",
        "colab_type": "code",
        "colab": {
          "base_uri": "https://localhost:8080/",
          "height": 51
        },
        "outputId": "2ee6fb69-9766-4f25-a743-234a1c9f2bbf"
      },
      "source": [
        "幾罐=float(input('輸入購買飲料的罐數'))\n",
        "幾打=幾罐/12\n",
        "剩餘=int(幾打)\n",
        "幾打的價格=(幾打-剩餘)*200 #2.5-2 \n",
        "\n",
        "剩餘的價格=剩餘*200\n",
        "\n",
        "總共=幾打的價格+剩餘的價格\n",
        "print('需花費',總共)"
      ],
      "execution_count": 3,
      "outputs": [
        {
          "output_type": "stream",
          "text": [
            "輸入購買飲料的罐數30\n",
            "需花費 500.0\n"
          ],
          "name": "stdout"
        }
      ]
    },
    {
      "cell_type": "code",
      "metadata": {
        "id": "sxBuJwPKiAlW",
        "colab_type": "code",
        "colab": {
          "base_uri": "https://localhost:8080/",
          "height": 85
        },
        "outputId": "7e1c3e02-a9e8-454f-8903-540e2a3bbeda"
      },
      "source": [
        "第一次=int(input(\"第一次期中考成績為?\"))\n",
        "\n",
        "第二次=int(input(\"第二次期中考成績為?\"))\n",
        "\n",
        "第三次=int(input(\"期末考成績為?\"))\n",
        "\n",
        "總分 = 第一次*1+第二次*1+第三次*1\n",
        "平均 = 總分/3\n",
        "print(\"總分為\",總分,\"平均為\",平均)"
      ],
      "execution_count": 5,
      "outputs": [
        {
          "output_type": "stream",
          "text": [
            "第一次期中考成績為?75\n",
            "第二次期中考成績為?65\n",
            "期末考成績為?80\n",
            "總分為 220 平均為 73.33333333333333\n"
          ],
          "name": "stdout"
        }
      ]
    },
    {
      "cell_type": "code",
      "metadata": {
        "id": "75BzfPe6iTSO",
        "colab_type": "code",
        "colab": {
          "base_uri": "https://localhost:8080/",
          "height": 68
        },
        "outputId": "3ade26d8-b1ea-4581-92dd-91a4e5971343"
      },
      "source": [
        "第一次=int(input(\"請輸入幾尺?\"))\n",
        "\n",
        "第二次=int(input(\"請輸入幾吋?\"))\n",
        "\n",
        "\n",
        "轉換公式 = (第一次*12+第二次*1)*2.54\n",
        "print(\"轉換成\",轉換公式,\"公分\")"
      ],
      "execution_count": 6,
      "outputs": [
        {
          "output_type": "stream",
          "text": [
            "請輸入幾尺?5\n",
            "請輸入幾吋?8\n",
            "轉換成 172.72 公分\n"
          ],
          "name": "stdout"
        }
      ]
    },
    {
      "cell_type": "code",
      "metadata": {
        "id": "_qv8P33fiZxr",
        "colab_type": "code",
        "colab": {
          "base_uri": "https://localhost:8080/",
          "height": 85
        },
        "outputId": "5ddf8054-07f2-47e7-cd5e-48b8e35c8fe6"
      },
      "source": [
        "座號=int(input(\"輸入座號\"))\n",
        "print(\"計算結果顯示如下\")\n",
        "分組=座號/5\n",
        "四捨五入=分組+1\n",
        "分組為=int(四捨五入)\n",
        "\n",
        "print(\"分組\")\n",
        "print(分組為)\n"
      ],
      "execution_count": 8,
      "outputs": [
        {
          "output_type": "stream",
          "text": [
            "輸入座號19\n",
            "計算結果顯示如下\n",
            "分組\n",
            "4\n"
          ],
          "name": "stdout"
        }
      ]
    }
  ]
}