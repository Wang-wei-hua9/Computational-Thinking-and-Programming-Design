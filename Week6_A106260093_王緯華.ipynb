{
  "nbformat": 4,
  "nbformat_minor": 0,
  "metadata": {
    "colab": {
      "name": "Week6/A106260093/王緯華.ipynb",
      "provenance": [],
      "include_colab_link": true
    },
    "kernelspec": {
      "name": "python3",
      "display_name": "Python 3"
    }
  },
  "cells": [
    {
      "cell_type": "markdown",
      "metadata": {
        "id": "view-in-github",
        "colab_type": "text"
      },
      "source": [
        "<a href=\"https://colab.research.google.com/github/Wang-wei-hua9/Computational-Thinking-and-Programming-Design/blob/master/Week6_A106260093_%E7%8E%8B%E7%B7%AF%E8%8F%AF.ipynb\" target=\"_parent\"><img src=\"https://colab.research.google.com/assets/colab-badge.svg\" alt=\"Open In Colab\"/></a>"
      ]
    },
    {
      "cell_type": "code",
      "metadata": {
        "id": "4KQa5sIUHBbM",
        "colab_type": "code",
        "colab": {
          "base_uri": "https://localhost:8080/",
          "height": 85
        },
        "outputId": "52b3208f-3c8d-4ff4-8dea-8e8deb131fe1"
      },
      "source": [
        "#1. 變數初始化為分鐘數\n",
        "minutes_to_convert = 555\n",
        "\n",
        "# 2. 變數轉換為小時數\n",
        "hours_decimal = minutes_to_convert/60 #數學運算除以60\n",
        "hours_part = int(hours_decimal) #將浮點數結果轉換變數型別為整數\n",
        "\n",
        "# 3. 取得轉換後的分鐘數\n",
        "minutes_decimal = hours_decimal-hours_part #浮點數減整數取得小數\n",
        "minutes_part = round(minutes_decimal*60) #數學運算乘60得分鐘數，在此要四捨五入才行\n",
        "\n",
        "# 4. 顯示結果\n",
        "\n",
        "print(\"Hours\")\n",
        "print(hours_part)\n",
        "print(\"Minutes\")\n",
        "print(minutes_part)"
      ],
      "execution_count": 11,
      "outputs": [
        {
          "output_type": "stream",
          "text": [
            "Hours\n",
            "9\n",
            "Minutes\n",
            "15\n"
          ],
          "name": "stdout"
        }
      ]
    },
    {
      "cell_type": "code",
      "metadata": {
        "id": "EMt_e2AlMAhB",
        "colab_type": "code",
        "colab": {
          "base_uri": "https://localhost:8080/",
          "height": 34
        },
        "outputId": "d7fbf02a-65c0-434a-97a9-ed8b3f5a4b4a"
      },
      "source": [
        "123//60"
      ],
      "execution_count": 13,
      "outputs": [
        {
          "output_type": "execute_result",
          "data": {
            "text/plain": [
              "2"
            ]
          },
          "metadata": {
            "tags": []
          },
          "execution_count": 13
        }
      ]
    },
    {
      "cell_type": "code",
      "metadata": {
        "id": "f3u-9jw7MJoJ",
        "colab_type": "code",
        "colab": {
          "base_uri": "https://localhost:8080/",
          "height": 85
        },
        "outputId": "a6956d22-ce7d-4fd2-bf7e-1ddb5f2d57a8"
      },
      "source": [
        "第一次=int(input(\"第一次期中考成績為?\"))\n",
        "\n",
        "第二次=int(input(\"第二次期中考成績為?\"))\n",
        "\n",
        "第三次=int(input(\"期末考成績為?\"))\n",
        "\n",
        "總分 = 第一次*1+第二次*1+第三次*1\n",
        "平均 = 總分/3\n",
        "print(\"總分為\",總分,\"平均為\",平均)\n"
      ],
      "execution_count": 34,
      "outputs": [
        {
          "output_type": "stream",
          "text": [
            "第一次期中考成績為?75\n",
            "第二次期中考成績為?80\n",
            "期末考成績為?65\n",
            "總分為 220 平均為 73.33333333333333\n"
          ],
          "name": "stdout"
        }
      ]
    },
    {
      "cell_type": "code",
      "metadata": {
        "id": "PCC7iy_8Sn1Z",
        "colab_type": "code",
        "colab": {
          "base_uri": "https://localhost:8080/",
          "height": 68
        },
        "outputId": "44f0a269-6fc0-4a62-92c5-8dc6b9049995"
      },
      "source": [
        "第一次=int(input(\"請輸入幾尺?\"))\n",
        "\n",
        "第二次=int(input(\"請輸入幾吋?\"))\n",
        "\n",
        "\n",
        "轉換公式 = (第一次*12+第二次*1)*2.54\n",
        "print(\"轉換成\",轉換公式,\"公分\")"
      ],
      "execution_count": 33,
      "outputs": [
        {
          "output_type": "stream",
          "text": [
            "請輸入幾尺?5\n",
            "請輸入幾吋?8\n",
            "轉換成 172.72 公分\n"
          ],
          "name": "stdout"
        }
      ]
    },
    {
      "cell_type": "code",
      "metadata": {
        "id": "ZErnxHj5Tt2d",
        "colab_type": "code",
        "colab": {
          "base_uri": "https://localhost:8080/",
          "height": 85
        },
        "outputId": "61a51f9a-c5ae-4d7d-c7e8-f3f2daff0f54"
      },
      "source": [
        "座號=int(input(\"輸入座號\"))\n",
        "print(\"計算結果顯示如下\")\n",
        "分組=座號/5\n",
        "四捨五入=分組+1\n",
        "分組為=int(四捨五入)\n",
        "\n",
        "print(\"分組\")\n",
        "print(分組為)"
      ],
      "execution_count": 43,
      "outputs": [
        {
          "output_type": "stream",
          "text": [
            "輸入座號19\n",
            "計算結果顯示如下\n",
            "分組\n",
            "4\n"
          ],
          "name": "stdout"
        }
      ]
    },
    {
      "cell_type": "code",
      "metadata": {
        "id": "xJSnJCqjWgIe",
        "colab_type": "code",
        "colab": {
          "base_uri": "https://localhost:8080/",
          "height": 85
        },
        "outputId": "bc452e9a-bd3b-4a33-f29f-82f107964bd9"
      },
      "source": [
        "幾罐=int(input(\"要買幾罐?\"))\n",
        "print(\"計算結果顯示如下\")\n",
        "print(\"您購買了\",幾罐,\"罐\")\n",
        "一打=幾罐/12\n",
        "打數=int(一打)\n",
        "\n",
        "餘罐=一打-打數\n",
        "餘罐捨入=round(餘罐*20)\n",
        "\n",
        "總金額=打數*200+餘罐捨入*10\n",
        "\n",
        "print(\"需花費\",總金額)\n"
      ],
      "execution_count": 55,
      "outputs": [
        {
          "output_type": "stream",
          "text": [
            "要買幾罐?30\n",
            "計算結果顯示如下\n",
            "您購買了 30 罐\n",
            "需花費 500\n"
          ],
          "name": "stdout"
        }
      ]
    },
    {
      "cell_type": "code",
      "metadata": {
        "id": "dowcPs4NYv15",
        "colab_type": "code",
        "colab": {}
      },
      "source": [
        ""
      ],
      "execution_count": 0,
      "outputs": []
    }
  ]
}