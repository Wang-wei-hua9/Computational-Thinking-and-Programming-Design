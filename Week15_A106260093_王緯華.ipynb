{
  "nbformat": 4,
  "nbformat_minor": 0,
  "metadata": {
    "colab": {
      "name": "Week15/A106260093/王緯華.ipynb",
      "provenance": [],
      "include_colab_link": true
    },
    "kernelspec": {
      "name": "python3",
      "display_name": "Python 3"
    }
  },
  "cells": [
    {
      "cell_type": "markdown",
      "metadata": {
        "id": "view-in-github",
        "colab_type": "text"
      },
      "source": [
        "<a href=\"https://colab.research.google.com/github/Wang-wei-hua9/Computational-Thinking-and-Programming-Design/blob/master/Week15_A106260093_%E7%8E%8B%E7%B7%AF%E8%8F%AF.ipynb\" target=\"_parent\"><img src=\"https://colab.research.google.com/assets/colab-badge.svg\" alt=\"Open In Colab\"/></a>"
      ]
    },
    {
      "cell_type": "code",
      "metadata": {
        "id": "F7HSR7Vxlzfw",
        "colab_type": "code",
        "colab": {
          "base_uri": "https://localhost:8080/"
        },
        "outputId": "5629137a-4505-4019-d591-b007f815327a"
      },
      "source": [
        "x=5\n",
        "if x < 10:\n",
        "  print(\"x is less than 10\")\n",
        "\n",
        "  "
      ],
      "execution_count": 2,
      "outputs": [
        {
          "output_type": "stream",
          "text": [
            "x is less than 10\n"
          ],
          "name": "stdout"
        }
      ]
    },
    {
      "cell_type": "code",
      "metadata": {
        "id": "alywFSRDmCZL",
        "colab_type": "code",
        "colab": {
          "base_uri": "https://localhost:8080/",
          "height": 204
        },
        "outputId": "da887deb-12c4-4743-b492-c08b8cdaf58b"
      },
      "source": [
        "x=5 #\n",
        "while x < 10: \n",
        "  print(\"x is less than 10\")\n",
        "  print(\"I am still here\")\n",
        "  x = x+1 #update \n",
        "print(\"Finshed\")"
      ],
      "execution_count": 3,
      "outputs": [
        {
          "output_type": "stream",
          "text": [
            "x is less than 10\n",
            "I am still here\n",
            "x is less than 10\n",
            "I am still here\n",
            "x is less than 10\n",
            "I am still here\n",
            "x is less than 10\n",
            "I am still here\n",
            "x is less than 10\n",
            "I am still here\n",
            "Finshed\n"
          ],
          "name": "stdout"
        }
      ]
    },
    {
      "cell_type": "code",
      "metadata": {
        "id": "Ul2Daf3CmOfZ",
        "colab_type": "code",
        "colab": {
          "base_uri": "https://localhost:8080/"
        },
        "outputId": "3fffcf96-69e7-40ed-bbed-6040cd620519"
      },
      "source": [
        "#most importan\n",
        "x = 1\n",
        "while x<5 :\n",
        "  print(\"X is\",x)\n",
        "  x=x+1\n",
        "print(\"Fineshed\")\n"
      ],
      "execution_count": 4,
      "outputs": [
        {
          "output_type": "stream",
          "text": [
            "X is 1\n",
            "X is 2\n",
            "X is 3\n",
            "X is 4\n",
            "Fineshed\n"
          ],
          "name": "stdout"
        }
      ]
    },
    {
      "cell_type": "code",
      "metadata": {
        "id": "XV3L3HXmqW6-",
        "colab_type": "code",
        "colab": {
          "base_uri": "https://localhost:8080/"
        },
        "outputId": "5d60fbad-16fd-4a75-c991-bd7961825ee4"
      },
      "source": [
        "x = 1\n",
        "while x<= 10:\n",
        "  print(\"Hello\")\n",
        "  x=x+1\n",
        "print(\"Fineshed\")\n"
      ],
      "execution_count": 5,
      "outputs": [
        {
          "output_type": "stream",
          "text": [
            "Hello\n",
            "Hello\n",
            "Hello\n",
            "Hello\n",
            "Hello\n",
            "Hello\n",
            "Hello\n",
            "Hello\n",
            "Hello\n",
            "Hello\n",
            "Fineshed\n"
          ],
          "name": "stdout"
        }
      ]
    },
    {
      "cell_type": "code",
      "metadata": {
        "id": "_YDOWo9BrO51",
        "colab_type": "code",
        "colab": {
          "base_uri": "https://localhost:8080/",
          "height": 204
        },
        "outputId": "a92cfd51-1f60-4772-9e42-045234a1e4be"
      },
      "source": [
        "x = 1\n",
        "while x<= 10:\n",
        "  print(\"this is \",x,\" times Hello\")\n",
        "  x=x+1\n",
        "print(\"Fineshed\")"
      ],
      "execution_count": 6,
      "outputs": [
        {
          "output_type": "stream",
          "text": [
            "this is  1  times Hello\n",
            "this is  2  times Hello\n",
            "this is  3  times Hello\n",
            "this is  4  times Hello\n",
            "this is  5  times Hello\n",
            "this is  6  times Hello\n",
            "this is  7  times Hello\n",
            "this is  8  times Hello\n",
            "this is  9  times Hello\n",
            "this is  10  times Hello\n",
            "Fineshed\n"
          ],
          "name": "stdout"
        }
      ]
    },
    {
      "cell_type": "code",
      "metadata": {
        "id": "eZwYuSP5rrZW",
        "colab_type": "code",
        "colab": {
          "base_uri": "https://localhost:8080/",
          "height": 204
        },
        "outputId": "d54f6df3-a0f8-46e9-e301-d96b0be14b25"
      },
      "source": [
        "x = 0\n",
        "\n",
        "while x< 10:\n",
        "  x=x+1\n",
        "  left = 10-x\n",
        "  print(\"this is \",x,\" times Hello\",\"you still have\",left,\"times\")\n",
        "print(\"Fineshed\")"
      ],
      "execution_count": 7,
      "outputs": [
        {
          "output_type": "stream",
          "text": [
            "this is  1  times Hello you still have 9 times\n",
            "this is  2  times Hello you still have 8 times\n",
            "this is  3  times Hello you still have 7 times\n",
            "this is  4  times Hello you still have 6 times\n",
            "this is  5  times Hello you still have 5 times\n",
            "this is  6  times Hello you still have 4 times\n",
            "this is  7  times Hello you still have 3 times\n",
            "this is  8  times Hello you still have 2 times\n",
            "this is  9  times Hello you still have 1 times\n",
            "this is  10  times Hello you still have 0 times\n",
            "Fineshed\n"
          ],
          "name": "stdout"
        }
      ]
    },
    {
      "cell_type": "code",
      "metadata": {
        "id": "yjISl9WNtBc8",
        "colab_type": "code",
        "colab": {
          "base_uri": "https://localhost:8080/"
        },
        "outputId": "713cbdb4-fc80-4576-c930-3075aaa2d622"
      },
      "source": [
        "x = 0\n",
        "sum=0\n",
        "\n",
        "while x< 10:\n",
        "  x=x+1\n",
        "  sum=sum+x\n",
        "  print(\"Sum is\",sum)\n",
        "print(\"Fineshed\")"
      ],
      "execution_count": 8,
      "outputs": [
        {
          "output_type": "stream",
          "text": [
            "Sum is 1\n",
            "Sum is 3\n",
            "Sum is 6\n",
            "Sum is 10\n",
            "Sum is 15\n",
            "Sum is 21\n",
            "Sum is 28\n",
            "Sum is 36\n",
            "Sum is 45\n",
            "Sum is 55\n",
            "Fineshed\n"
          ],
          "name": "stdout"
        }
      ]
    },
    {
      "cell_type": "code",
      "metadata": {
        "id": "3K6_APOIviX-",
        "colab_type": "code",
        "colab": {
          "base_uri": "https://localhost:8080/",
          "height": 374
        },
        "outputId": "e026fee5-8368-444a-979d-cf717b8c3adc"
      },
      "source": [
        "x = 0\n",
        "sum=0\n",
        "\n",
        "while sum<= 50:\n",
        "  x=x+1\n",
        "  sum=sum+x\n",
        "  print(\"X is\",x)\n",
        "  print(\"Sum is\",sum)\n",
        "\n",
        "print(\"Fineshed\")"
      ],
      "execution_count": 9,
      "outputs": [
        {
          "output_type": "stream",
          "text": [
            "X is 1\n",
            "Sum is 1\n",
            "X is 2\n",
            "Sum is 3\n",
            "X is 3\n",
            "Sum is 6\n",
            "X is 4\n",
            "Sum is 10\n",
            "X is 5\n",
            "Sum is 15\n",
            "X is 6\n",
            "Sum is 21\n",
            "X is 7\n",
            "Sum is 28\n",
            "X is 8\n",
            "Sum is 36\n",
            "X is 9\n",
            "Sum is 45\n",
            "X is 10\n",
            "Sum is 55\n",
            "Fineshed\n"
          ],
          "name": "stdout"
        }
      ]
    },
    {
      "cell_type": "code",
      "metadata": {
        "id": "z-3IPfCexZET",
        "colab_type": "code",
        "colab": {
          "base_uri": "https://localhost:8080/",
          "height": 34
        },
        "outputId": "21035fd9-677f-4ce8-f83d-ed7d14721a73"
      },
      "source": [
        "sum=0\n",
        "x=1\n",
        "\n",
        "while x< 11:\n",
        "  sum=sum+x\n",
        "  x=x+2\n",
        "print(\"1+3+5+7+9=\",sum)\n"
      ],
      "execution_count": 10,
      "outputs": [
        {
          "output_type": "stream",
          "text": [
            "1+3+5+7+9= 25\n"
          ],
          "name": "stdout"
        }
      ]
    },
    {
      "cell_type": "code",
      "metadata": {
        "id": "ZR5y43Qhy64z",
        "colab_type": "code",
        "colab": {
          "base_uri": "https://localhost:8080/",
          "height": 34
        },
        "outputId": "cd53aee7-549f-4c53-b24b-20a70f54e34b"
      },
      "source": [
        "sum =0\n",
        "x=0\n",
        "\n",
        "while sum<=1000:\n",
        "  x=x+1\n",
        "  sum=sum + x*x\n",
        "print(\"最小的N值為\",x)"
      ],
      "execution_count": 11,
      "outputs": [
        {
          "output_type": "stream",
          "text": [
            "最小的N值為 14\n"
          ],
          "name": "stdout"
        }
      ]
    },
    {
      "cell_type": "code",
      "metadata": {
        "id": "lgdWQzKG24nD",
        "colab_type": "code",
        "colab": {
          "base_uri": "https://localhost:8080/",
          "height": 68
        },
        "outputId": "64289359-3d18-416a-cb37-c8567e51c151"
      },
      "source": [
        "i = 1\n",
        "while (i < 6):\n",
        "  print(i)\n",
        "  if i == 3:\n",
        "   break\n",
        "  i += 1"
      ],
      "execution_count": 15,
      "outputs": [
        {
          "output_type": "stream",
          "text": [
            "1\n",
            "2\n",
            "3\n"
          ],
          "name": "stdout"
        }
      ]
    },
    {
      "cell_type": "code",
      "metadata": {
        "id": "OnS9dNaA3STE",
        "colab_type": "code",
        "colab": {
          "base_uri": "https://localhost:8080/",
          "height": 119
        },
        "outputId": "4db5279a-fa2e-4cda-f2ef-6a3087846af9"
      },
      "source": [
        "i = 1\n",
        "while (i<6):\n",
        "  print(i)\n",
        "  if i == 6:\n",
        "   break\n",
        "  i += 1\n",
        "print('while迴圈正常結束')"
      ],
      "execution_count": 17,
      "outputs": [
        {
          "output_type": "stream",
          "text": [
            "1\n",
            "2\n",
            "3\n",
            "4\n",
            "5\n",
            "while迴圈正常結束\n"
          ],
          "name": "stdout"
        }
      ]
    }
  ]
}