{
  "nbformat": 4,
  "nbformat_minor": 0,
  "metadata": {
    "colab": {
      "name": "Week15/A106260093/王緯華.ipynb",
      "provenance": [],
      "include_colab_link": true
    },
    "kernelspec": {
      "name": "python3",
      "display_name": "Python 3"
    }
  },
  "cells": [
    {
      "cell_type": "markdown",
      "metadata": {
        "id": "view-in-github",
        "colab_type": "text"
      },
      "source": [
        "<a href=\"https://colab.research.google.com/github/Wang-wei-hua9/Computational-Thinking-and-Programming-Design/blob/master/Week15_A106260093_%E7%8E%8B%E7%B7%AF%E8%8F%AF.ipynb\" target=\"_parent\"><img src=\"https://colab.research.google.com/assets/colab-badge.svg\" alt=\"Open In Colab\"/></a>"
      ]
    },
    {
      "cell_type": "code",
      "metadata": {
        "id": "F7HSR7Vxlzfw",
        "colab_type": "code",
        "colab": {
          "base_uri": "https://localhost:8080/",
          "height": 34
        },
        "outputId": "31e0c00b-877e-4ecc-b950-6c5b3f41f738"
      },
      "source": [
        "x=5\n",
        "if x < 10:\n",
        "  print(\"x is less than 10\")\n",
        "\n",
        "  "
      ],
      "execution_count": 1,
      "outputs": [
        {
          "output_type": "stream",
          "text": [
            "x is less than 10\n"
          ],
          "name": "stdout"
        }
      ]
    },
    {
      "cell_type": "code",
      "metadata": {
        "id": "alywFSRDmCZL",
        "colab_type": "code",
        "colab": {
          "base_uri": "https://localhost:8080/",
          "height": 204
        },
        "outputId": "1c5b9c4e-6210-4c8b-dd5a-a69842002a1f"
      },
      "source": [
        "x=5 #\n",
        "while x < 10: \n",
        "  print(\"x is less than 10\")\n",
        "  print(\"I am still here\")\n",
        "  x = x+1 #update \n",
        "print(\"Finshed\")"
      ],
      "execution_count": 5,
      "outputs": [
        {
          "output_type": "stream",
          "text": [
            "x is less than 10\n",
            "I am still here\n",
            "x is less than 10\n",
            "I am still here\n",
            "x is less than 10\n",
            "I am still here\n",
            "x is less than 10\n",
            "I am still here\n",
            "x is less than 10\n",
            "I am still here\n",
            "Finshed\n"
          ],
          "name": "stdout"
        }
      ]
    },
    {
      "cell_type": "code",
      "metadata": {
        "id": "Ul2Daf3CmOfZ",
        "colab_type": "code",
        "colab": {
          "base_uri": "https://localhost:8080/",
          "height": 102
        },
        "outputId": "edd68f0b-5076-4829-e9e6-28f19175d23d"
      },
      "source": [
        "#most importan\n",
        "x = 1\n",
        "while x<5 :\n",
        "  print(\"X is\",x)\n",
        "  x=x+1\n",
        "print(\"Fineshed\")\n"
      ],
      "execution_count": 6,
      "outputs": [
        {
          "output_type": "stream",
          "text": [
            "X is 1\n",
            "X is 2\n",
            "X is 3\n",
            "X is 4\n",
            "Fineshed\n"
          ],
          "name": "stdout"
        }
      ]
    },
    {
      "cell_type": "code",
      "metadata": {
        "id": "XV3L3HXmqW6-",
        "colab_type": "code",
        "colab": {
          "base_uri": "https://localhost:8080/",
          "height": 204
        },
        "outputId": "5876cb54-d5d6-4529-84ac-707161beb518"
      },
      "source": [
        "x = 1\n",
        "while x<= 10:\n",
        "  print(\"Hello\")\n",
        "  x=x+1\n",
        "print(\"Fineshed\")\n"
      ],
      "execution_count": 9,
      "outputs": [
        {
          "output_type": "stream",
          "text": [
            "Hello\n",
            "Hello\n",
            "Hello\n",
            "Hello\n",
            "Hello\n",
            "Hello\n",
            "Hello\n",
            "Hello\n",
            "Hello\n",
            "Hello\n",
            "Fineshed\n"
          ],
          "name": "stdout"
        }
      ]
    },
    {
      "cell_type": "code",
      "metadata": {
        "id": "_YDOWo9BrO51",
        "colab_type": "code",
        "colab": {
          "base_uri": "https://localhost:8080/",
          "height": 204
        },
        "outputId": "114c42a3-cedb-45ae-f915-8fe991e91b62"
      },
      "source": [
        "x = 1\n",
        "while x<= 10:\n",
        "  print(\"this is \",x,\" times Hello\")\n",
        "  x=x+1\n",
        "print(\"Fineshed\")"
      ],
      "execution_count": 11,
      "outputs": [
        {
          "output_type": "stream",
          "text": [
            "this is  1  times Hello\n",
            "this is  2  times Hello\n",
            "this is  3  times Hello\n",
            "this is  4  times Hello\n",
            "this is  5  times Hello\n",
            "this is  6  times Hello\n",
            "this is  7  times Hello\n",
            "this is  8  times Hello\n",
            "this is  9  times Hello\n",
            "this is  10  times Hello\n",
            "Fineshed\n"
          ],
          "name": "stdout"
        }
      ]
    },
    {
      "cell_type": "code",
      "metadata": {
        "id": "eZwYuSP5rrZW",
        "colab_type": "code",
        "colab": {
          "base_uri": "https://localhost:8080/",
          "height": 204
        },
        "outputId": "e2efc073-fda5-458d-845e-b6d9252c0471"
      },
      "source": [
        "x = 0\n",
        "\n",
        "while x< 10:\n",
        "  x=x+1\n",
        "  left = 10-x\n",
        "  print(\"this is \",x,\" times Hello\",\"you still have\",left,\"times\")\n",
        "print(\"Fineshed\")"
      ],
      "execution_count": 14,
      "outputs": [
        {
          "output_type": "stream",
          "text": [
            "this is  1  times Hello you still have 9 times\n",
            "this is  2  times Hello you still have 8 times\n",
            "this is  3  times Hello you still have 7 times\n",
            "this is  4  times Hello you still have 6 times\n",
            "this is  5  times Hello you still have 5 times\n",
            "this is  6  times Hello you still have 4 times\n",
            "this is  7  times Hello you still have 3 times\n",
            "this is  8  times Hello you still have 2 times\n",
            "this is  9  times Hello you still have 1 times\n",
            "this is  10  times Hello you still have 0 times\n",
            "Fineshed\n"
          ],
          "name": "stdout"
        }
      ]
    },
    {
      "cell_type": "code",
      "metadata": {
        "id": "yjISl9WNtBc8",
        "colab_type": "code",
        "colab": {
          "base_uri": "https://localhost:8080/",
          "height": 204
        },
        "outputId": "93235cce-1afe-4308-b5ea-b3a7d566e3ca"
      },
      "source": [
        "x = 0\n",
        "sum=0\n",
        "\n",
        "while x< 10:\n",
        "  x=x+1\n",
        "  sum=sum+x\n",
        "  print(\"Sum is\",sum)\n",
        "print(\"Fineshed\")"
      ],
      "execution_count": 22,
      "outputs": [
        {
          "output_type": "stream",
          "text": [
            "Sum is 1\n",
            "Sum is 3\n",
            "Sum is 6\n",
            "Sum is 10\n",
            "Sum is 15\n",
            "Sum is 21\n",
            "Sum is 28\n",
            "Sum is 36\n",
            "Sum is 45\n",
            "Sum is 55\n",
            "Fineshed\n"
          ],
          "name": "stdout"
        }
      ]
    },
    {
      "cell_type": "code",
      "metadata": {
        "id": "3K6_APOIviX-",
        "colab_type": "code",
        "colab": {
          "base_uri": "https://localhost:8080/",
          "height": 374
        },
        "outputId": "7dad215b-4369-4e98-ca92-885d302d4743"
      },
      "source": [
        "x = 0\n",
        "sum=0\n",
        "\n",
        "while sum<= 50:\n",
        "  x=x+1\n",
        "  sum=sum+x\n",
        "  print(\"X is\",x)\n",
        "  print(\"Sum is\",sum)\n",
        "\n",
        "print(\"Fineshed\")"
      ],
      "execution_count": 26,
      "outputs": [
        {
          "output_type": "stream",
          "text": [
            "X is 1\n",
            "Sum is 1\n",
            "X is 2\n",
            "Sum is 3\n",
            "X is 3\n",
            "Sum is 6\n",
            "X is 4\n",
            "Sum is 10\n",
            "X is 5\n",
            "Sum is 15\n",
            "X is 6\n",
            "Sum is 21\n",
            "X is 7\n",
            "Sum is 28\n",
            "X is 8\n",
            "Sum is 36\n",
            "X is 9\n",
            "Sum is 45\n",
            "X is 10\n",
            "Sum is 55\n",
            "Fineshed\n"
          ],
          "name": "stdout"
        }
      ]
    },
    {
      "cell_type": "code",
      "metadata": {
        "id": "z-3IPfCexZET",
        "colab_type": "code",
        "colab": {
          "base_uri": "https://localhost:8080/",
          "height": 34
        },
        "outputId": "9bda02b9-70e1-42ca-f3a1-d9aa957ddb97"
      },
      "source": [
        "sum=0\n",
        "x=1\n",
        "\n",
        "while x< 11:\n",
        "  sum=sum+x\n",
        "  x=x+2\n",
        "print(\"1+3+5+7+9=\",sum)\n"
      ],
      "execution_count": 34,
      "outputs": [
        {
          "output_type": "stream",
          "text": [
            "1+3+5+7+9= 25\n"
          ],
          "name": "stdout"
        }
      ]
    },
    {
      "cell_type": "code",
      "metadata": {
        "id": "ZR5y43Qhy64z",
        "colab_type": "code",
        "colab": {
          "base_uri": "https://localhost:8080/",
          "height": 34
        },
        "outputId": "410fa0a9-8bf5-4a85-f3a9-61b7397bd013"
      },
      "source": [
        "sum =0\n",
        "x=0\n",
        "\n",
        "while sum<=1000:\n",
        "  x=x+1\n",
        "  sum=sum + x*x\n",
        "print(\"最小的N值為\",x)"
      ],
      "execution_count": 43,
      "outputs": [
        {
          "output_type": "stream",
          "text": [
            "最小的N值為 14\n"
          ],
          "name": "stdout"
        }
      ]
    }
  ]
}