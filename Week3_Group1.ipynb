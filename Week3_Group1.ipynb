{
  "nbformat": 4,
  "nbformat_minor": 0,
  "metadata": {
    "colab": {
      "name": "Week3-Group1.ipynb",
      "provenance": [],
      "collapsed_sections": [],
      "include_colab_link": true
    },
    "kernelspec": {
      "name": "python3",
      "display_name": "Python 3"
    }
  },
  "cells": [
    {
      "cell_type": "markdown",
      "metadata": {
        "id": "view-in-github",
        "colab_type": "text"
      },
      "source": [
        "<a href=\"https://colab.research.google.com/github/Wang-wei-hua9/Computational-Thinking-and-Programming-Design/blob/master/Week3_Group1.ipynb\" target=\"_parent\"><img src=\"https://colab.research.google.com/assets/colab-badge.svg\" alt=\"Open In Colab\"/></a>"
      ]
    },
    {
      "cell_type": "code",
      "metadata": {
        "id": "_KxiJWalFiH7",
        "colab_type": "code",
        "outputId": "587ed688-3f1e-4dbe-d1e6-5fa7b7fc32ce",
        "colab": {
          "base_uri": "https://localhost:8080/",
          "height": 34
        }
      },
      "source": [
        "print('我是經濟三甲張雅雯')"
      ],
      "execution_count": 0,
      "outputs": [
        {
          "output_type": "stream",
          "text": [
            "我是經濟三甲張雅雯\n"
          ],
          "name": "stdout"
        }
      ]
    },
    {
      "cell_type": "code",
      "metadata": {
        "id": "BDRvbxQmPNB2",
        "colab_type": "code",
        "colab": {}
      },
      "source": [
        "學姊HEN胖~"
      ],
      "execution_count": 0,
      "outputs": []
    },
    {
      "cell_type": "code",
      "metadata": {
        "id": "nx52O7jeOpWs",
        "colab_type": "code",
        "outputId": "fcb2d632-e68c-4623-d2d4-6f6c37fa5010",
        "colab": {
          "base_uri": "https://localhost:8080/",
          "height": 34
        }
      },
      "source": [
        "print(\"學姊4廢物\")"
      ],
      "execution_count": 0,
      "outputs": [
        {
          "output_type": "stream",
          "text": [
            "學姊4廢物\n"
          ],
          "name": "stdout"
        }
      ]
    },
    {
      "cell_type": "code",
      "metadata": {
        "id": "C2FkPB5vNH5o",
        "colab_type": "code",
        "outputId": "d50dda5e-5a9f-4faa-a182-2d2a4aa204e9",
        "colab": {
          "base_uri": "https://localhost:8080/",
          "height": 34
        }
      },
      "source": [
        "print(\"大家好我是經濟三甲的王緯華\")"
      ],
      "execution_count": 0,
      "outputs": [
        {
          "output_type": "stream",
          "text": [
            "大家好我是經濟三甲的王緯華\n"
          ],
          "name": "stdout"
        }
      ]
    },
    {
      "cell_type": "code",
      "metadata": {
        "id": "cNmgpeLaNYgp",
        "colab_type": "code",
        "colab": {}
      },
      "source": [
        "print(\"大家好我是經濟一乙的劉子瑄\")"
      ],
      "execution_count": 0,
      "outputs": []
    },
    {
      "cell_type": "code",
      "metadata": {
        "id": "VcxIWUA1Nr_S",
        "colab_type": "code",
        "outputId": "4ac12acf-766f-4ec5-b94c-468c924a772b",
        "colab": {
          "base_uri": "https://localhost:8080/",
          "height": 34
        }
      },
      "source": [
        "print(\"大家好我是經濟一乙鄭羽庭\")"
      ],
      "execution_count": 0,
      "outputs": [
        {
          "output_type": "stream",
          "text": [
            "大家好我是經濟一乙鄭羽庭\n"
          ],
          "name": "stdout"
        }
      ]
    }
  ]
}